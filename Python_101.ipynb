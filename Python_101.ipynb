{
  "nbformat": 4,
  "nbformat_minor": 0,
  "metadata": {
    "colab": {
      "provenance": [],
      "collapsed_sections": [
        "OS5Edy2j9Olx",
        "DRDbUFGGnow2",
        "qYpHVad4uNAi",
        "gSD7pWixNnr9",
        "UTmTMpa3QU3d",
        "srw_DLiMU4Jq",
        "1VJMH0N9Yja7",
        "frqI7ca7cgHc",
        "i_IA-ZPje3Um",
        "1yzvkzUesqQP",
        "9XIt_zBEtsMD",
        "NEb1DVV-U-Jk",
        "ogl62h1jhtNj",
        "AkRJr9psjKRb",
        "v_MooigWrS2e",
        "dqnYyN5Vrnov",
        "iOvcFa83sL_a",
        "gHkLDymjZO61",
        "RI6AWJFwx4we",
        "T4JXMdqzFfhM",
        "PfwUKjYbG0s4",
        "fCu0SIA9HVKU",
        "zxSmFRq3HbH7",
        "gttt4ndYHphd",
        "GWxoVYjvIB4A",
        "D7zQPQi1Jwma",
        "Uq0eBJgfJ8E_",
        "kun-SEJKKzyT",
        "ijBpr-ejLCRd",
        "Zl1LQzjYMikV",
        "EzNWd_0zM9GY",
        "d44lFSSHNZAi",
        "wCpdGkr18D_K",
        "3AnPSapw-82R",
        "uCm5_lnp_jTy",
        "xNkvt8dbc2P3",
        "wz1pYC3fdmyV",
        "QfBuf9bMdzjZ",
        "p4vUyo6IeKMx",
        "0s39WZ_rc84R",
        "OMUCRZYBglyB",
        "-jsB3ueNjt_J",
        "RuBJuoMkkT44",
        "28tBL8cDnhyz",
        "dQmFO3Bgo4Eq",
        "mZ9jZ2g6cE0N",
        "n7W2V2yJdrNk",
        "iEFvKcjydm20",
        "EaLZsiFheoov",
        "7pOT6QvBgBVe",
        "XUe7I-V7gt-v",
        "SneD7FkYjZLt",
        "1-H4h9WIlEFX",
        "eTiaQ0bDRa93",
        "QESwHPFEb0aW",
        "DuvenqxjbHqq",
        "8hu2rz1NbFLj",
        "f866cObmirno",
        "gwNM_AxNmkFx"
      ],
      "include_colab_link": true
    },
    "kernelspec": {
      "name": "python3",
      "display_name": "Python 3"
    },
    "language_info": {
      "name": "python"
    }
  },
  "cells": [
    {
      "cell_type": "markdown",
      "metadata": {
        "id": "view-in-github",
        "colab_type": "text"
      },
      "source": [
        "<a href=\"https://colab.research.google.com/github/Amir-Behzad/Behzad/blob/master/Python_101.ipynb\" target=\"_parent\"><img src=\"https://colab.research.google.com/assets/colab-badge.svg\" alt=\"Open In Colab\"/></a>"
      ]
    },
    {
      "cell_type": "markdown",
      "source": [
        "# Python 401\n",
        "> Amir Behzad Ebrahimi"
      ],
      "metadata": {
        "id": "42fMDIm5LXax"
      }
    },
    {
      "cell_type": "markdown",
      "source": [
        "Python is the \"most powerful language you can still read\".\n",
        "> Paul Dubois"
      ],
      "metadata": {
        "id": "U7Ne7HoELHSX"
      }
    },
    {
      "cell_type": "markdown",
      "source": [
        "# 0.Basics"
      ],
      "metadata": {
        "id": "OS5Edy2j9Olx"
      }
    },
    {
      "cell_type": "markdown",
      "source": [
        "## Hello World!"
      ],
      "metadata": {
        "id": "mQDdoDJKKfWR"
      }
    },
    {
      "cell_type": "markdown",
      "source": [
        "┌───── •✧✧• ─────┐\n",
        "\n",
        "          Hello World! \n",
        "\n",
        "└───── •✧✧• ─────┘"
      ],
      "metadata": {
        "id": "TkWJFvDfnoMa"
      }
    },
    {
      "cell_type": "markdown",
      "source": [
        "## First Things First"
      ],
      "metadata": {
        "id": "DRDbUFGGnow2"
      }
    },
    {
      "cell_type": "markdown",
      "source": [
        "Let's build the most simple app written in Python language. A simple app to display a text. It simply prints out a text (and also includes a new line at the end.)\n",
        "We are going to type a code for printing out the text: `'Hello World!'`"
      ],
      "metadata": {
        "id": "-iMANJTUnvjk"
      }
    },
    {
      "cell_type": "code",
      "source": [
        "print('Hello World!')"
      ],
      "metadata": {
        "colab": {
          "base_uri": "https://localhost:8080/"
        },
        "id": "1iyIXmneR-tW",
        "outputId": "07628204-6b51-4e9f-fdfc-4bc3dc3c2153"
      },
      "execution_count": null,
      "outputs": [
        {
          "output_type": "stream",
          "name": "stdout",
          "text": [
            "Hello World!\n"
          ]
        }
      ]
    },
    {
      "cell_type": "markdown",
      "source": [
        "## Comments"
      ],
      "metadata": {
        "id": "qYpHVad4uNAi"
      }
    },
    {
      "cell_type": "markdown",
      "source": [
        "Comments are an extremely useful feature in most programming languages. Everything you’ve written in your programs so far is Python code. As your programs become longer and more complicated, you should add notes within your programs that describe your overall approach to the problem you’re solving. A comment allows you to write notes in your spoken language, within your programs."
      ],
      "metadata": {
        "id": "JPdpND2_ylkP"
      }
    },
    {
      "cell_type": "code",
      "source": [
        "import this"
      ],
      "metadata": {
        "id": "oh_kQHXNue8-"
      },
      "execution_count": null,
      "outputs": []
    },
    {
      "cell_type": "markdown",
      "source": [
        "\n",
        "\n",
        "---\n",
        "\n",
        "\n",
        "\n",
        "---\n",
        "\n"
      ],
      "metadata": {
        "id": "lb8W5xe5fgTY"
      }
    },
    {
      "cell_type": "markdown",
      "source": [
        "# 1.Strings"
      ],
      "metadata": {
        "id": "c-4XWH7wMRP5"
      }
    },
    {
      "cell_type": "markdown",
      "source": [
        "## What is a **string**?"
      ],
      "metadata": {
        "id": "gHkLDymjZO61"
      }
    },
    {
      "cell_type": "markdown",
      "source": [
        "Strings are strings of Characters!\n",
        "A string can have from zero to ... characters.\n",
        "Strings are coated by surronding quotation marks(`' '`, `\" \"`)."
      ],
      "metadata": {
        "id": "p5zCPdo1l7YE"
      }
    },
    {
      "cell_type": "markdown",
      "source": [
        "## Adding Whitespace to Strings with Tabs or Newlines"
      ],
      "metadata": {
        "id": "srw_DLiMU4Jq"
      }
    },
    {
      "cell_type": "markdown",
      "source": [
        "In programming, whitespace refers to any nonprinting characters, such as spaces, tabs, and end-of-line symbols. You can use whitespace to organize your output so it’s easier for users to read.\n",
        "To add a **tab** to your text, use the character combination `\\t`:"
      ],
      "metadata": {
        "id": "-dZiAG8bXba6"
      }
    },
    {
      "cell_type": "code",
      "source": [
        "print(\"Python\")\n",
        "print(\"\\tPython\")"
      ],
      "metadata": {
        "id": "FcreLfUnXjmW",
        "colab": {
          "base_uri": "https://localhost:8080/"
        },
        "outputId": "0f755ced-804a-4208-ad8c-c8a08087d22a"
      },
      "execution_count": null,
      "outputs": [
        {
          "output_type": "stream",
          "name": "stdout",
          "text": [
            "Python\n",
            "\tPython\n"
          ]
        }
      ]
    },
    {
      "cell_type": "markdown",
      "source": [
        "\n",
        "To add a **newline** in a string, use the character combination `\\n`:"
      ],
      "metadata": {
        "id": "TGdcCH1LX4EK"
      }
    },
    {
      "cell_type": "code",
      "source": [
        "print(\"Languages:\\nPython\\n\\tC\\nJavaScript\")"
      ],
      "metadata": {
        "id": "CE-Lv5quX6nP",
        "colab": {
          "base_uri": "https://localhost:8080/"
        },
        "outputId": "83a7b2d6-98db-406d-bceb-34dee9287d77"
      },
      "execution_count": null,
      "outputs": [
        {
          "output_type": "stream",
          "name": "stdout",
          "text": [
            "Languages:\n",
            "Python\t\n",
            "\tC\n",
            "JavaScript\n"
          ]
        }
      ]
    },
    {
      "cell_type": "markdown",
      "source": [
        "\n",
        "You can also combine tabs and newlines in a single string. The string \"`\\n\\t`\" tells Python to move to a new line, and start the next line with a tab. The following example shows how you can use a one-line string to generate four lines of output:**bold text**"
      ],
      "metadata": {
        "id": "QveR86qKYFdG"
      }
    },
    {
      "cell_type": "code",
      "source": [
        "print(\"Languages:\\n\\tPython\\n\\tC\\n\\tJavaScript\")"
      ],
      "metadata": {
        "id": "OwSfzPmTYHze"
      },
      "execution_count": null,
      "outputs": []
    },
    {
      "cell_type": "markdown",
      "source": [
        "\n",
        "**Newlines** and **tabs** will be very useful in the next two chapters, when you start to produce many lines of output from just a few lines of code."
      ],
      "metadata": {
        "id": "zSRCWY5FYdzY"
      }
    },
    {
      "cell_type": "markdown",
      "source": [
        "## Using Variables in Strings\n",
        "\n",
        "\n",
        "\n",
        "> F-String\n",
        "\n",
        "\n",
        "```\n",
        "f\"String\"\n",
        "```\n",
        "\n",
        "\n",
        "\n"
      ],
      "metadata": {
        "id": "UTmTMpa3QU3d"
      }
    },
    {
      "cell_type": "markdown",
      "source": [
        "\n",
        "In some situations, you’ll want to use a variable’s value inside a string. For example, you might want to use two variables to represent a first name and a last name, respectively, and then combine those values to display someone’s full name:"
      ],
      "metadata": {
        "id": "IkV7MhlqR8Hd"
      }
    },
    {
      "cell_type": "code",
      "source": [
        "# TODO run this cell.\n",
        "first_name = \"Anar\"\n",
        "last_name = \"lovelace\"\n",
        "full_name = first_name + ' ' + last_name\n",
        "text = f'{first_name} welcome to the website.'\n",
        "fullName = f\"Ms {first_name} is the last child of the {last_name} family.\"   # ❶\n",
        "print(text)"
      ],
      "metadata": {
        "id": "XpX1-nOzSAUq",
        "colab": {
          "base_uri": "https://localhost:8080/"
        },
        "outputId": "90ea3fc0-9b74-4ef9-bcbe-4191f20a00db"
      },
      "execution_count": null,
      "outputs": [
        {
          "output_type": "stream",
          "name": "stdout",
          "text": [
            "Anar welcome to the website.\n"
          ]
        }
      ]
    },
    {
      "cell_type": "code",
      "source": [
        "name = 'Jules'\n",
        "city = 'suburbs'\n",
        "has = 'addiction'\n",
        "story = f'{name} was a man. He was Born in {city}. He had a {has}.'\n",
        "print(story)"
      ],
      "metadata": {
        "colab": {
          "base_uri": "https://localhost:8080/"
        },
        "id": "Ol4xF2sK6Jxn",
        "outputId": "6a83c761-d655-48e1-f2db-3d8882a0b1fc"
      },
      "execution_count": null,
      "outputs": [
        {
          "output_type": "stream",
          "name": "stdout",
          "text": [
            "Jules was a man. He was Born in suburbs. He had a addiction.\n"
          ]
        }
      ]
    },
    {
      "cell_type": "markdown",
      "source": [
        "\n",
        "To insert a variable’s value into a string, place the letter f immediately before the opening quotation mark ❶. Put braces around the name or names of any variable you want to use inside the string. Python will replace each variable with its value when the string is displayed.\n",
        "\n",
        "These strings are called f-strings. The f is for format, because Python formats the string by replacing the name of any variable in braces with its value."
      ],
      "metadata": {
        "id": "zEmfLpFnSYnC"
      }
    },
    {
      "cell_type": "markdown",
      "source": [
        "You can do a lot with f-strings. For example, you can use f-strings to compose complete messages using the information associated with a variable, as shown here:"
      ],
      "metadata": {
        "id": "yey8E5z1S3c6"
      }
    },
    {
      "cell_type": "code",
      "source": [
        "first_name = \"ada\"\n",
        "last_name = \"lovelace\"\n",
        "full_name = f\"{first_name} {last_name}\"  # ❶ \n",
        "print(full_name)"
      ],
      "metadata": {
        "id": "Lnu-vsyLTALx"
      },
      "execution_count": null,
      "outputs": []
    },
    {
      "cell_type": "markdown",
      "source": [
        "\n",
        "You can also use f-strings to compose a message, and then assign the entire message to a variable:"
      ],
      "metadata": {
        "id": "NmMbsfmdTmbC"
      }
    },
    {
      "cell_type": "markdown",
      "source": [
        "## Changing Case in a String with **Methods**\n",
        "\n"
      ],
      "metadata": {
        "id": "gSD7pWixNnr9"
      }
    },
    {
      "cell_type": "markdown",
      "source": [
        "A **method** is an action that Python can perform on a piece of data.\n",
        "\n",
        "Some String Methods:\n",
        "* `title()`\n",
        "* `lower()`\n",
        "* `upper()`"
      ],
      "metadata": {
        "id": "9pnqH1GgZan1"
      }
    },
    {
      "cell_type": "markdown",
      "source": [
        "\n",
        "One of the simplest tasks you can do with strings is change the case of the words in a string."
      ],
      "metadata": {
        "id": "TSBHS9AZNy1X"
      }
    },
    {
      "cell_type": "code",
      "execution_count": null,
      "metadata": {
        "id": "R7oNN-FyKej1",
        "colab": {
          "base_uri": "https://localhost:8080/"
        },
        "outputId": "37d9375c-5984-48c2-99af-8dd5dd11eb96"
      },
      "outputs": [
        {
          "output_type": "stream",
          "name": "stdout",
          "text": [
            "Behzad Ebrahimi\n"
          ]
        }
      ],
      "source": [
        "# TODO run this cell.\n",
        "name = \"behzad ebrahimi\"\n",
        "# print(name)\n",
        "print(name.title())\n"
      ]
    },
    {
      "cell_type": "markdown",
      "source": [
        "In the cell above, the variable `name` refers to the lowercase string `\"behzad ebrahimi\"`. \n",
        "The method `title()` appears after the variable in the `print()` call.\n",
        "\n",
        " A **method** is an action that Python can perform on a piece of data. The dot (`.`) after `name` in `name.title()` tells Python to make the `title()` method act on the variable `name`. Every method is followed by a set of parentheses, because methods often need additional information to do their work. That information is provided inside the parentheses. The `title()` function doesn’t need any additional information, so its parentheses are empty.\n",
        "\n",
        " \n",
        "The `title()` method changes each word to title case, where each word begins with a capital letter. This is useful because you’ll often want to think of a name as a piece of information. For example, you might want your program to recognize the input values Ada, ADA, and ada as the same name, and display all of them as Ada."
      ],
      "metadata": {
        "id": "XBM4a4b2OPSy"
      }
    },
    {
      "cell_type": "markdown",
      "source": [
        "\n",
        "The full name is used in a sentence that greets the user ❶, and the `title()` method changes the name to title case. This code returns a simple but nicely formatted greeting:\n",
        "\n",
        "`Hello, Ada Lovelace!`"
      ],
      "metadata": {
        "id": "C1Y9eDJdTDld"
      }
    },
    {
      "cell_type": "code",
      "source": [
        "first_name = \"ada\"\n",
        "last_name = \"lovelace\"\n",
        "full_name = f\"{first_name} {last_name}\"\n",
        "message = f\"Hello, {full_name.title()}!\"   # ❶ \n",
        "print(message)    # ❷ "
      ],
      "metadata": {
        "id": "rnIkJ1aIToPc"
      },
      "execution_count": null,
      "outputs": []
    },
    {
      "cell_type": "markdown",
      "source": [
        "\n",
        "This code displays the message Hello, Ada Lovelace! as well, but by assigning the message to a variable ❶ we make the final print() call much simpler ❷."
      ],
      "metadata": {
        "id": "mkmyL9hITz5x"
      }
    },
    {
      "cell_type": "markdown",
      "source": [
        "## Stripping Whitespace"
      ],
      "metadata": {
        "id": "1VJMH0N9Yja7"
      }
    },
    {
      "cell_type": "markdown",
      "source": [
        "\n",
        "Extra whitespace can be confusing in your programs. To programmers, 'python' and 'python ' look pretty much the same. But to a program, they are two different strings."
      ],
      "metadata": {
        "id": "Mb91BRnSY6vP"
      }
    },
    {
      "cell_type": "markdown",
      "source": [
        "\n",
        "It’s important to think about whitespace, because often you’ll want to compare two strings to determine whether they are the same. For example, one important instance might involve checking people’s usernames when they log in to a website. Extra whitespace can be confusing in much simpler situations as well. Fortunately, Python makes it easy to eliminate extra whitespace from data that people enter."
      ],
      "metadata": {
        "id": "WuO4nXinZA4H"
      }
    },
    {
      "cell_type": "markdown",
      "source": [
        "\n",
        "Python can look for extra whitespace on the right and left sides of a string. To ensure that no whitespace exists at the right side of a string, use the `rstrip()` method:"
      ],
      "metadata": {
        "id": "_57qrJlkaAft"
      }
    },
    {
      "cell_type": "code",
      "source": [
        "favorite_language = 'python   '  # ❶"
      ],
      "metadata": {
        "id": "-j9Bj_cLaCol"
      },
      "execution_count": null,
      "outputs": []
    },
    {
      "cell_type": "code",
      "source": [
        "favorite_language  # ❷"
      ],
      "metadata": {
        "id": "CpSEkR3WadWF",
        "colab": {
          "base_uri": "https://localhost:8080/",
          "height": 36
        },
        "outputId": "ae810e90-db21-4c9d-b002-753bc366a441"
      },
      "execution_count": null,
      "outputs": [
        {
          "output_type": "execute_result",
          "data": {
            "text/plain": [
              "'python   '"
            ],
            "application/vnd.google.colaboratory.intrinsic+json": {
              "type": "string"
            }
          },
          "metadata": {},
          "execution_count": 11
        }
      ]
    },
    {
      "cell_type": "code",
      "source": [
        "favorite_language.rstrip()   # ❸"
      ],
      "metadata": {
        "id": "hlOktWMDaVGw",
        "colab": {
          "base_uri": "https://localhost:8080/",
          "height": 36
        },
        "outputId": "d443acc4-7d40-445a-d915-8a101200859e"
      },
      "execution_count": null,
      "outputs": [
        {
          "output_type": "execute_result",
          "data": {
            "text/plain": [
              "'python'"
            ],
            "application/vnd.google.colaboratory.intrinsic+json": {
              "type": "string"
            }
          },
          "metadata": {},
          "execution_count": 12
        }
      ]
    },
    {
      "cell_type": "code",
      "source": [
        "favorite_language   # ❹"
      ],
      "metadata": {
        "id": "XbcLpvLJaaUQ",
        "colab": {
          "base_uri": "https://localhost:8080/",
          "height": 36
        },
        "outputId": "4304ba94-3404-4a81-8653-a8d91056c63b"
      },
      "execution_count": null,
      "outputs": [
        {
          "output_type": "execute_result",
          "data": {
            "text/plain": [
              "'python   '"
            ],
            "application/vnd.google.colaboratory.intrinsic+json": {
              "type": "string"
            }
          },
          "metadata": {},
          "execution_count": 13
        }
      ]
    },
    {
      "cell_type": "code",
      "source": [
        "#@title\n",
        "# Assignment Statement\n",
        "\n",
        "favorite_language = favorite_language.rstrip()"
      ],
      "metadata": {
        "id": "AAOW9k-_jyjN"
      },
      "execution_count": null,
      "outputs": []
    },
    {
      "cell_type": "code",
      "source": [
        "firstName = \"anar\"\n",
        "firstName.title()\n",
        "firstName = firstName.title()\n",
        "print(firstName)"
      ],
      "metadata": {
        "colab": {
          "base_uri": "https://localhost:8080/"
        },
        "id": "cgt82pZbmV0B",
        "outputId": "dc18f676-9a85-41ca-ddbd-bce0c5d7d1b3"
      },
      "execution_count": null,
      "outputs": [
        {
          "output_type": "stream",
          "name": "stdout",
          "text": [
            "Anar\n"
          ]
        }
      ]
    },
    {
      "cell_type": "markdown",
      "source": [
        "The value associated with `favorite_language` ❶ contains extra whitespace at the end of the string. When you ask Python for this value in a terminal session, you can see the space at the end of the value ❷. When the `rstrip()` method acts on the variable `favorite_language` ❸, this extra space is removed. However, it is only removed temporarily. If you ask for the value of `favorite_language` again, the string looks the same as when it was entered, including the extra whitespace ❹.\n",
        "\n",
        "To remove the whitespace from the string permanently, you have to associate the stripped value with the variable name:"
      ],
      "metadata": {
        "id": "qfhHwDSTa_J2"
      }
    },
    {
      "cell_type": "code",
      "source": [
        "favorite_language = 'python '\n",
        "favorite_language = favorite_language.rstrip()   # ❶\n",
        "favorite_language"
      ],
      "metadata": {
        "id": "kp4Nt0P0bVrz"
      },
      "execution_count": null,
      "outputs": []
    },
    {
      "cell_type": "markdown",
      "source": [
        "\n",
        "To remove the whitespace from the string, you strip the whitespace from the right side of the string and then associate this new value with the original variable ❶. Changing a variable’s value is done often in programming. This is how a variable’s value can be updated as a program is executed or in response to user input."
      ],
      "metadata": {
        "id": "HaeFVzRjbp0U"
      }
    },
    {
      "cell_type": "markdown",
      "source": [
        "\n",
        "You can also strip whitespace from the left side of a string using the `lstrip()` method, or from both sides at once using `strip()`:"
      ],
      "metadata": {
        "id": "Me5nkDJvbwTU"
      }
    },
    {
      "cell_type": "code",
      "source": [
        "favorite_language = ' python '   # ❶ \n",
        "favorite_language.rstrip()   # ❷\n",
        "favorite_language.lstrip()   # ❸\n",
        "favorite_language.strip()   # ❹"
      ],
      "metadata": {
        "id": "OyIOQZ9sb3iD"
      },
      "execution_count": null,
      "outputs": []
    },
    {
      "cell_type": "markdown",
      "source": [
        "\n",
        "In this example, we start with a value that has whitespace at the beginning and the end ❶. We then remove the extra space from the right side ❷, from the left side ❸, and from both sides ❹. Experimenting with these stripping functions can help you become familiar with manipulating strings. In the real world, these stripping functions are used most often to clean up user input before it’s stored in a program."
      ],
      "metadata": {
        "id": "ry_yt7v2cHSG"
      }
    },
    {
      "cell_type": "markdown",
      "source": [
        "## Removing Prefixes"
      ],
      "metadata": {
        "id": "frqI7ca7cgHc"
      }
    },
    {
      "cell_type": "markdown",
      "source": [
        "\n",
        "When working with strings, another common task is to remove a prefix. Consider a URL with the common prefix `https://`. We want to remove this prefix, so we can focus on just the part of the URL that users need to enter into an address bar. Here’s how to do that:"
      ],
      "metadata": {
        "id": "ENFLzQyjcs7M"
      }
    },
    {
      "cell_type": "code",
      "source": [
        "nostarch_url = 'https://nostarch.com'\n",
        "nostarch_url = 'https://nostarch.com'.removeprefix('https://')"
      ],
      "metadata": {
        "id": "GFrLavCec2B7"
      },
      "execution_count": null,
      "outputs": []
    },
    {
      "cell_type": "markdown",
      "source": [
        "Enter the name of the variable followed by a dot, and then the method `removeprefix()`. Inside the parentheses, enter the prefix you want to remove from the original string.\n",
        "Like the methods for removing whitespace, `removeprefix()` leaves the original string unchanged. If you want to keep the new value with the prefix removed, either reassign it to the original variable or assign it to a new variable:"
      ],
      "metadata": {
        "id": "dqTCaADJeYVB"
      }
    },
    {
      "cell_type": "code",
      "source": [
        " simple_url = nostarch_url.removeprefix('https://')"
      ],
      "metadata": {
        "id": "8D2ooGylefm0"
      },
      "execution_count": null,
      "outputs": []
    },
    {
      "cell_type": "markdown",
      "source": [
        "\n",
        "When you see a URL in an address bar and the https://  isn’t shown, the browser is probably using a method like `removeprefix()` behind the scenes."
      ],
      "metadata": {
        "id": "66brtoPgeqYd"
      }
    },
    {
      "cell_type": "markdown",
      "source": [
        "## Avoiding Syntax Errors with Strings"
      ],
      "metadata": {
        "id": "i_IA-ZPje3Um"
      }
    },
    {
      "cell_type": "markdown",
      "source": [
        "\n",
        "One kind of error that you might see with some regularity is a syntax error. A syntax error occurs when Python doesn’t recognize a section of your program as valid Python code. For example, if you use an apostrophe within single quotes, you’ll produce an error. This happens because Python interprets everything between the first single quote and the apostrophe as a string. It then tries to interpret the rest of the text as Python code, which causes errors.\n",
        "Here’s how to use single and double quotes correctly. Run the cell below:"
      ],
      "metadata": {
        "id": "Fn53zXPIe7m1"
      }
    },
    {
      "cell_type": "code",
      "source": [
        "message = \"One of Python's strengths is its diverse community.\"\n",
        "print(message)"
      ],
      "metadata": {
        "colab": {
          "base_uri": "https://localhost:8080/"
        },
        "id": "7DwqqGDIfOGH",
        "outputId": "6c7b1ed3-11b4-4182-81f8-4efe5f39e129"
      },
      "execution_count": null,
      "outputs": [
        {
          "output_type": "stream",
          "name": "stdout",
          "text": [
            "One of Python's strengths is its diverse community.\n"
          ]
        }
      ]
    },
    {
      "cell_type": "markdown",
      "source": [
        "\n",
        "The apostrophe appears inside a set of double quotes, so the Python interpreter has no trouble reading the string correctly:\n",
        "\n",
        "`One of Python's strengths is its diverse community.`"
      ],
      "metadata": {
        "id": "yIGf4DElfsBW"
      }
    },
    {
      "cell_type": "markdown",
      "source": [
        "\n",
        "However, if you use single quotes, Python can’t identify where the string should end:"
      ],
      "metadata": {
        "id": "xAP0YOoOgAdm"
      }
    },
    {
      "cell_type": "code",
      "source": [
        "# Run this cell and then fix it.\n",
        "message = 'One of Python's strengths is its diverse community.'\n",
        "print(message)"
      ],
      "metadata": {
        "id": "iaZlnbWEgB32"
      },
      "execution_count": null,
      "outputs": []
    },
    {
      "cell_type": "markdown",
      "source": [
        "\n",
        "You’ll see the following output:\n",
        "```\n",
        "  File \"apostrophe.py\", line 1\n",
        "    message = 'One of Python's strengths is its diverse community.'\n",
        "                                                                ❶ ^\n",
        "SyntaxError: unterminated string literal (detected at line 1)\n",
        "\n",
        "```\n",
        "\n",
        "In the output you can see that the error occurs right after the final single quote ❶. This syntax error indicates that the interpreter doesn’t recognize something in the code as valid Python code, and it thinks the problem might be a string that’s not quoted correctly. Errors can come from a variety of sources, and I’ll point out some common ones as they arise. You might see syntax errors often as you learn to write proper Python code. Syntax errors are also the least specific kind of error, so they can be difficult and frustrating to identify and correct.\n"
      ],
      "metadata": {
        "id": "7tbzC9z6gXRY"
      }
    },
    {
      "cell_type": "markdown",
      "source": [
        "Note\n",
        "\n",
        "\n",
        "> Your editor’s syntax highlighting feature should help you spot some syntax errors quickly as you write your programs. If you see Python code highlighted as if it’s English or English highlighted as if it’s Python code, you probably have a mismatched quotation mark somewhere in your file.\n",
        "\n"
      ],
      "metadata": {
        "id": "hSxImidWhAuA"
      }
    },
    {
      "cell_type": "markdown",
      "source": [
        "\n",
        "You can assign values to more than one variable using just a single line of code. This can help shorten your programs and make them easier to read; you’ll use this technique most often when initializing a set of numbers.\n",
        "For example, here’s how you can initialize the variables x, y, and z to zero:\n",
        "\n",
        "---\n",
        "\n",
        "```\n",
        ">>> x, y, z = 0, 0, 0\n",
        "```\n",
        "\n",
        "You need to separate the variable names with commas, and do the same with the values, and Python will assign each value to its respective variable. As long as the number of values matches the number of variables, Python will match them up correctly."
      ],
      "metadata": {
        "id": "34lZqXAVsPBN"
      }
    },
    {
      "cell_type": "code",
      "source": [
        "def functionName(first_name, last_name):\n",
        "  fName, lName = first_name, last_name\n",
        "  fullName = fName + \" \" + lName\n",
        "  print(fullName)\n",
        "\n",
        "functionName('Taha', 'Taheri')"
      ],
      "metadata": {
        "colab": {
          "base_uri": "https://localhost:8080/"
        },
        "id": "IHUVEpfqKWP2",
        "outputId": "b1a58007-fcc6-4397-e512-4764f252c3d4"
      },
      "execution_count": null,
      "outputs": [
        {
          "output_type": "stream",
          "name": "stdout",
          "text": [
            "Taha Taheri\n"
          ]
        }
      ]
    },
    {
      "cell_type": "markdown",
      "source": [
        "\n",
        "This flexibility allows you to use quotes and apostrophes within your strings:\n",
        "\n",
        "\n",
        "\n",
        "```\n",
        "'I told my friend, \"Python is my favorite language!\"'\n",
        "\"I'm happy.\"\n",
        "```\n",
        "\n",
        "\n",
        "\n",
        "```\n",
        "\"The language 'Python' is named after Monty Python, not the snake.\"\n",
        "```\n",
        "\n"
      ],
      "metadata": {
        "id": "7ofBQ59ENJxw"
      }
    },
    {
      "cell_type": "markdown",
      "source": [
        " The first data type we’ll look at is the string. Strings are quite simple at first glance, but you can use them in many different ways.\n",
        "A string is a series of characters. Anything inside quotes is considered a string in Python, and you can use single or double quotes around your strings like this:\n",
        "\n",
        "\n",
        "\n",
        "```\n",
        "\"This is a string.\"\n",
        "```\n",
        "\n",
        "\n",
        "\n",
        "```\n",
        "'This is also a string.'\n",
        "```\n",
        "\n"
      ],
      "metadata": {
        "id": "3_rZw3hLMt5x"
      }
    },
    {
      "cell_type": "markdown",
      "source": [
        "# 2.Numbers"
      ],
      "metadata": {
        "id": "NEb1DVV-U-Jk"
      }
    },
    {
      "cell_type": "markdown",
      "source": [
        "\n",
        "Numbers are used quite often in programming to keep score in games, represent data in visualizations, store information in web applications, and so on. Python treats numbers in several different ways, depending on how they’re being used. Let’s first look at how Python manages integers, because they’re the simplest to work with."
      ],
      "metadata": {
        "id": "Zuh5NVQFhWgN"
      }
    },
    {
      "cell_type": "markdown",
      "source": [
        "## Integers"
      ],
      "metadata": {
        "id": "ogl62h1jhtNj"
      }
    },
    {
      "cell_type": "markdown",
      "source": [
        "\n",
        "You can add (+), subtract (-), multiply (*), and divide (/) integers in Python.\n",
        "\n",
        "```\n",
        ">>> 2 + 3\n",
        "5\n",
        ">>> 3 - 2\n",
        "1\n",
        ">>> 2 * 3\n",
        "6\n",
        ">>> 3 / 2\n",
        "1.5\n",
        "```"
      ],
      "metadata": {
        "id": "0NVBW4XKhjzj"
      }
    },
    {
      "cell_type": "markdown",
      "source": [
        "## Floats"
      ],
      "metadata": {
        "id": "AkRJr9psjKRb"
      }
    },
    {
      "cell_type": "markdown",
      "source": [
        "\n",
        "Python calls any number with a decimal point a float. This term is used in most programming languages, and it refers to the fact that a decimal point can appear at any position in a number. Every programming language must be carefully designed to properly manage decimal numbers so numbers behave appropriately, no matter where the decimal point appears.\n",
        "\n",
        "```\n",
        ">>> 0.1 + 0.1\n",
        "0.2\n",
        ">>> 0.2 + 0.2\n",
        "0.4\n",
        ">>> 2 * 0.1\n",
        "0.2\n",
        ">>> 2 * 0.2\n",
        "0.4\n",
        "```"
      ],
      "metadata": {
        "id": "iRlmQNVFjRyT"
      }
    },
    {
      "cell_type": "markdown",
      "source": [
        "\n",
        "However, be aware that you can sometimes get an arbitrary number of decimal places in your answer:\n",
        "\n",
        "```\n",
        ">>> 0.2 + 0.1\n",
        "0.30000000000000004\n",
        ">>> 3 * 0.1\n",
        "0.30000000000000004\n",
        "```"
      ],
      "metadata": {
        "id": "A70MP3R0q_on"
      }
    },
    {
      "cell_type": "markdown",
      "source": [],
      "metadata": {
        "id": "a5thcGNGLNMD"
      }
    },
    {
      "cell_type": "code",
      "source": [
        "0.2 + 0.1"
      ],
      "metadata": {
        "colab": {
          "base_uri": "https://localhost:8080/"
        },
        "id": "A8WIhlQfjx3h",
        "outputId": "052aa4c8-c86a-4d4e-9303-4ea01adbe7ce"
      },
      "execution_count": null,
      "outputs": [
        {
          "output_type": "execute_result",
          "data": {
            "text/plain": [
              "0.30000000000000004"
            ]
          },
          "metadata": {},
          "execution_count": 2
        }
      ]
    },
    {
      "cell_type": "markdown",
      "source": [
        "## Integers and Floats"
      ],
      "metadata": {
        "id": "v_MooigWrS2e"
      }
    },
    {
      "cell_type": "markdown",
      "source": [
        "\n",
        "When you divide any two numbers, even if they are integers that result in a whole number, you’ll always get a float:\n",
        "```\n",
        ">>> 4/2\n",
        "2.0\n",
        "If you mix an integer and a float in any other operation, you’ll get a float as well:\n",
        ">>> 1 + 2.0\n",
        "3.0\n",
        ">>> 2 * 3.0\n",
        "6.0\n",
        ">>> 3.0 ** 2\n",
        "9.0\n",
        "```\n",
        "Python defaults to a float in any operation that uses a float, even if the output is a whole number."
      ],
      "metadata": {
        "id": "Dwu6ZwvSrdLe"
      }
    },
    {
      "cell_type": "markdown",
      "source": [
        "## Underscores in Numbers\n"
      ],
      "metadata": {
        "id": "dqnYyN5Vrnov"
      }
    },
    {
      "cell_type": "markdown",
      "source": [
        "When you’re writing long numbers, you can group digits using underscores to make large numbers more readable:\n",
        "```\n",
        ">>> universe_age = 14_000_000_000\n",
        "\n",
        "```\n",
        " When you print a number that was defined using underscores, Python prints only the digits:\n",
        " ```\n",
        ">>> print(universe_age)\n",
        "14000000000\n",
        " ```"
      ],
      "metadata": {
        "id": "5H3J2Tv8rqj-"
      }
    },
    {
      "cell_type": "code",
      "source": [],
      "metadata": {
        "id": "umK_obNN8-9_"
      },
      "execution_count": null,
      "outputs": []
    },
    {
      "cell_type": "markdown",
      "source": [
        "## Multiple Assignment"
      ],
      "metadata": {
        "id": "iOvcFa83sL_a"
      }
    },
    {
      "cell_type": "markdown",
      "source": [
        "## Constants"
      ],
      "metadata": {
        "id": "1yzvkzUesqQP"
      }
    },
    {
      "cell_type": "markdown",
      "source": [
        "\n",
        "A constant is a variable whose value stays the same throughout the life of a program. Python doesn’t have built-in constant types, but Python programmers use all capital letters to indicate a variable should be treated as a constant and never be changed:"
      ],
      "metadata": {
        "id": "48eEYaOxs8xy"
      }
    },
    {
      "cell_type": "code",
      "source": [
        "MAX_CONNECTIONS = 5000\n",
        "LIGHT_SPEED = 299_792_458\n",
        "aboutLightSpeed = f\"The speed of light is: {LIGHT_SPEED} m/s\"\n",
        "print(aboutLightSpeed)"
      ],
      "metadata": {
        "id": "WanX7NDTtCQO",
        "colab": {
          "base_uri": "https://localhost:8080/"
        },
        "outputId": "d18ad08d-2375-470b-af01-8ecdc8658b73"
      },
      "execution_count": null,
      "outputs": [
        {
          "output_type": "stream",
          "name": "stdout",
          "text": [
            "The speed of light is: 299792458 m/s\n"
          ]
        }
      ]
    },
    {
      "cell_type": "markdown",
      "source": [
        "## Try It Yourself"
      ],
      "metadata": {
        "id": "9XIt_zBEtsMD"
      }
    },
    {
      "cell_type": "markdown",
      "source": [
        "2-9. Number Eight: Write addition, subtraction, multiplication, and division operations that each result in the number `8`. Be sure to enclose your operations in `print()` calls to see the results. You should create four lines that look like this:\n",
        "\n",
        "`print(5+3)`\n",
        "\n",
        "Your output should be four lines, with the number `8` appearing once on each line."
      ],
      "metadata": {
        "id": "kwzAIRc6t0X5"
      }
    },
    {
      "cell_type": "code",
      "source": [
        "# Addition +\n",
        "result = 4 + 4\n",
        "result = f'The result is {result}.'\n",
        "print(result)"
      ],
      "metadata": {
        "colab": {
          "base_uri": "https://localhost:8080/"
        },
        "id": "uOrcMBYcztZl",
        "outputId": "b281b110-8f5e-4ee5-87fd-82b265d38ce4"
      },
      "execution_count": null,
      "outputs": [
        {
          "output_type": "stream",
          "name": "stdout",
          "text": [
            "The result is 8.\n"
          ]
        }
      ]
    },
    {
      "cell_type": "code",
      "source": [
        "# subtration -\n",
        "result = 16 - 8\n",
        "result = f'The result is {result}.'\n",
        "print(result)"
      ],
      "metadata": {
        "colab": {
          "base_uri": "https://localhost:8080/"
        },
        "id": "W-OBU_9L0gfd",
        "outputId": "65896193-2a03-4810-b9d5-1aca11302735"
      },
      "execution_count": null,
      "outputs": [
        {
          "output_type": "stream",
          "name": "stdout",
          "text": [
            "The result is 8.\n"
          ]
        }
      ]
    },
    {
      "cell_type": "code",
      "source": [
        "# multiplication *\n",
        "result = 2 * 4\n",
        "result = f'The result is {result}.'\n",
        "print(result)"
      ],
      "metadata": {
        "colab": {
          "base_uri": "https://localhost:8080/"
        },
        "id": "4keQBFHE0hFW",
        "outputId": "216465f3-a973-4e2d-b6a5-ab1e2f4b55c6"
      },
      "execution_count": null,
      "outputs": [
        {
          "output_type": "stream",
          "name": "stdout",
          "text": [
            "The result is 8.\n"
          ]
        }
      ]
    },
    {
      "cell_type": "code",
      "source": [
        "# /\n",
        "result = 16/2\n",
        "result = f'The result is {result}.'\n",
        "print(result)"
      ],
      "metadata": {
        "colab": {
          "base_uri": "https://localhost:8080/"
        },
        "id": "F6nxXjm40h-r",
        "outputId": "8630ba45-1712-4527-ce71-adc47fb8c225"
      },
      "execution_count": null,
      "outputs": [
        {
          "output_type": "stream",
          "name": "stdout",
          "text": [
            "The result is 8.0.\n"
          ]
        }
      ]
    },
    {
      "cell_type": "markdown",
      "source": [
        "# 3.Lists"
      ],
      "metadata": {
        "id": "Cz-SmyJmxBWY"
      }
    },
    {
      "cell_type": "markdown",
      "source": [
        "```\n",
        "myList = [ ]\n",
        "myList = [3, 4, 3.5, 'day']\n",
        "```\n",
        "\n",
        "\n",
        "Lists allow you to store sets of information in one place, whether you have just a few items or millions of items. Lists are one of Python’s most powerful features readily accessible to new programmers, and they tie together many important concepts in programming."
      ],
      "metadata": {
        "id": "DP9deFbhxFlH"
      }
    },
    {
      "cell_type": "markdown",
      "source": [
        "لیست ها مجموعه ای منظم از اشیاء هستند.\n",
        "از صفر تا میلیون ها عضو دارند.\n"
      ],
      "metadata": {
        "id": "9-559HBZiW-O"
      }
    },
    {
      "cell_type": "markdown",
      "source": [
        "## What Is a List?"
      ],
      "metadata": {
        "id": "FGm9s4g9xQrO"
      }
    },
    {
      "cell_type": "markdown",
      "source": [
        "\n",
        "A list is a collection of items in a particular order. You can make a list that includes the letters of the alphabet, the digits from 0 to 9, or the names of all the people in your family. You can put anything you want into a list, and the items in your list don’t have to be related in any particular way. Because a list usually contains more than one element, it’s a good idea to make the name of your list plural, such as `letters`, `digits`, or `names`."
      ],
      "metadata": {
        "id": "k4mxNEEyxSVO"
      }
    },
    {
      "cell_type": "markdown",
      "source": [
        "\n",
        "In Python, square brackets (`[ ]`) indicate a list, and individual elements in the list are separated by commas(`,`)."
      ],
      "metadata": {
        "id": "rh37szy3xi09"
      }
    },
    {
      "cell_type": "markdown",
      "source": [
        "\n",
        "If you ask Python to print a list, Python returns its representation of the list, including the square brackets:\n",
        "\n",
        "---\n",
        "\n",
        "```\n",
        "['bmw', 'Volvo', 'Audi', 'Toyota', 'Mercedes Benz', 'Ford']\n",
        "\n",
        "```"
      ],
      "metadata": {
        "id": "hkubhbKwxtay"
      }
    },
    {
      "cell_type": "markdown",
      "source": [
        "\n",
        "Because this isn’t the output you want your users to see, let’s learn how to access the individual items in a list.\n",
        "\n",
        "```\n",
        "My favorite car is Audi.\n",
        "```\n"
      ],
      "metadata": {
        "id": "FYPoTKD6x2n-"
      }
    },
    {
      "cell_type": "code",
      "source": [
        "cars = [\n",
        "        'bmw',\n",
        "        'Volvo',\n",
        "        'Audi',\n",
        "        'Toyota',\n",
        "        'Mercedes Benz',\n",
        "        'Ford',\n",
        "        ]\n",
        "\n",
        "print(cars)\n"
      ],
      "metadata": {
        "id": "V1bMNkkPxnpU",
        "colab": {
          "base_uri": "https://localhost:8080/"
        },
        "outputId": "b6fef1f3-6324-4804-fc61-f586687e8d9f"
      },
      "execution_count": null,
      "outputs": [
        {
          "output_type": "stream",
          "name": "stdout",
          "text": [
            "['bmw', 'Volvo', 'Audi', 'Toyota', 'Mercedes Benz', 'Ford']\n"
          ]
        }
      ]
    },
    {
      "cell_type": "markdown",
      "source": [
        "## Accessing Elements in a List"
      ],
      "metadata": {
        "id": "RI6AWJFwx4we"
      }
    },
    {
      "cell_type": "markdown",
      "source": [
        "\n",
        "Lists are ordered collections, so you can access any element in a list by telling Python the position, or index, of the item desired. To access an element in a list, write the name of the list followed by the index of the item enclosed in square brackets.\n",
        "For example, let’s pull out the first bicycle in the list `bicycles`:"
      ],
      "metadata": {
        "id": "TnZGONxbx_D6"
      }
    },
    {
      "cell_type": "markdown",
      "source": [
        "\n",
        "When we ask for a single item from a list, Python returns just that element without square brackets:\n",
        "\n",
        "\n",
        "`Trek`"
      ],
      "metadata": {
        "id": "qlc4lvlqyH4u"
      }
    },
    {
      "cell_type": "markdown",
      "source": [
        "We do this by ataching a pair of brackets [ ] to the name of the list. Inside the bracket we put the index(position) of the item in the list. \n",
        "\n",
        "> ## Index Positions Start at 0, Not 1 !\n",
        "\n",
        "```\n",
        "firstItem = listName[0]\n",
        "secondItem = listName[1]\n",
        "```\n",
        "\n",
        "```\n",
        "lastItem = listName[-1]\n",
        "oneToTheLast = listName[-2]\n",
        "```\n",
        "\n"
      ],
      "metadata": {
        "id": "T4JXMdqzFfhM"
      }
    },
    {
      "cell_type": "code",
      "source": [
        "bicycles = ['trek', 'cannondale', 'redline', 'specialized']\n",
        "print(bicycles[0])"
      ],
      "metadata": {
        "id": "3_X3FinbyD_q",
        "colab": {
          "base_uri": "https://localhost:8080/"
        },
        "outputId": "f319271e-9742-480b-cf57-43698d89dd09"
      },
      "execution_count": null,
      "outputs": [
        {
          "output_type": "stream",
          "name": "stdout",
          "text": [
            "trek\n"
          ]
        }
      ]
    },
    {
      "cell_type": "markdown",
      "source": [
        "\n",
        "This is the result you want your users to see: clean, neatly formatted output.\n",
        "You can also use the string methods from Chapter 2 on any element in this list. For example, you can format the element 'trek' to look more presentable by using the `title()` method:\n",
        "\n",
        "```\n",
        "bicycles = ['trek', 'cannondale', 'redline', 'specialized']\n",
        "print(bicycles[0].title())\n",
        "```"
      ],
      "metadata": {
        "id": "x2e2_LVBy8he"
      }
    },
    {
      "cell_type": "code",
      "source": [
        "bicycles = [\n",
        "            'trek',\n",
        "            'cannondale',\n",
        "            'redline',\n",
        "            'specialized',\n",
        "            ]\n",
        "print(bicycles[0].title())"
      ],
      "metadata": {
        "id": "f-6ZlXJty-Ws"
      },
      "execution_count": null,
      "outputs": []
    },
    {
      "cell_type": "markdown",
      "source": [
        "## Using Individual Values from a List"
      ],
      "metadata": {
        "id": "PfwUKjYbG0s4"
      }
    },
    {
      "cell_type": "markdown",
      "source": [
        "\n",
        "You can use individual values from a list just as you would any other variable. For example, you can use f-strings to create a message based on a value from a list.\n",
        "Let’s try pulling the first car from the list and composing a message using that value:"
      ],
      "metadata": {
        "id": "-ZS0JfxKG8rV"
      }
    },
    {
      "cell_type": "code",
      "source": [
        "cars = [\n",
        "        'bmw',\n",
        "        'volvo',\n",
        "        'audi',\n",
        "        'toyota',\n",
        "        'mercedes Benz',\n",
        "        'ford',\n",
        "        ]\n",
        "        \n",
        "myFavouriteCar = cars[2].title()\n",
        "text = f\"My favourite car is {myFavouriteCar}.\"\n",
        "print(text)\n",
        "# TODO : choose another car and Run the cell (Ctrl + Enter)."
      ],
      "metadata": {
        "colab": {
          "base_uri": "https://localhost:8080/"
        },
        "id": "L7UE0RBy_JN3",
        "outputId": "6b6e708a-8620-435d-a1b8-6b7acc2e013f"
      },
      "execution_count": null,
      "outputs": [
        {
          "output_type": "stream",
          "name": "stdout",
          "text": [
            "My favourite car is Audi.\n"
          ]
        }
      ]
    },
    {
      "cell_type": "markdown",
      "source": [
        "## Try It Yourself 3-1  --  3-3"
      ],
      "metadata": {
        "id": "fCu0SIA9HVKU"
      }
    },
    {
      "cell_type": "markdown",
      "source": [
        "### 3.1 **Names**\n",
        " Store the names of a few of your friends in a list called names. Print each person’s name by accessing each element in the list, one at a time."
      ],
      "metadata": {
        "id": "zxSmFRq3HbH7"
      }
    },
    {
      "cell_type": "code",
      "source": [],
      "metadata": {
        "id": "XoSRn6AFHqxS"
      },
      "execution_count": null,
      "outputs": []
    },
    {
      "cell_type": "markdown",
      "source": [
        "### 3.2 Greetings\n",
        "\n",
        " Start with the list you used in Exercise 3-1, but instead of just printing each person’s name, print a message to them. The text of each message should be the same, but each message should be personalized with the person’s name.\n"
      ],
      "metadata": {
        "id": "gttt4ndYHphd"
      }
    },
    {
      "cell_type": "code",
      "source": [],
      "metadata": {
        "id": "F9dU8vavH72H"
      },
      "execution_count": null,
      "outputs": []
    },
    {
      "cell_type": "markdown",
      "source": [
        "### 3.3 Your Own List\n",
        "\n",
        " Think of your favorite mode of transportation, such as a motorcycle or a car, and make a list that stores several examples. Use your list to print a series of statements about these items, such as “I would like to own a Honda motorcycle.”"
      ],
      "metadata": {
        "id": "GWxoVYjvIB4A"
      }
    },
    {
      "cell_type": "code",
      "source": [],
      "metadata": {
        "id": "34oWTHoyJxSQ"
      },
      "execution_count": null,
      "outputs": []
    },
    {
      "cell_type": "markdown",
      "source": [
        "## Modifying, Adding, and Removing Elements"
      ],
      "metadata": {
        "id": "D7zQPQi1Jwma"
      }
    },
    {
      "cell_type": "markdown",
      "source": [
        "\n",
        "Most lists you create will be dynamic, meaning you’ll build a list and then add and remove elements from it as your program runs its course. For example, you might create a game in which a player has to shoot aliens out of the sky. You could store the initial set of aliens in a list and then remove an alien from the list each time one is shot down. Each time a new alien appears on the screen, you add it to the list. Your list of aliens will increase and decrease in length throughout the course of the game."
      ],
      "metadata": {
        "id": "t6cepbtlJ089"
      }
    },
    {
      "cell_type": "markdown",
      "source": [
        "### Modifying Elements in a List\n"
      ],
      "metadata": {
        "id": "Uq0eBJgfJ8E_"
      }
    },
    {
      "cell_type": "markdown",
      "source": [
        "\n",
        "The syntax for modifying an element is similar to the syntax for accessing an element in a list. To change an element, use the name of the list followed by the index of the element you want to change, and then provide the new value you want that item to have.\n",
        "For example, say we have a list of motorcycles and the first item in the list is 'honda'. We can change the value of this first item after the list has been created:\n",
        "\n",
        "`listName[indexNumber] = 'value'`\n",
        "\n",
        "```\n",
        "motorcycles = ['honda', 'yamaha', 'suzuki']\n",
        "print(motorcycles)\n",
        "\n",
        "motorcycles[0] = 'ducati'\n",
        "print(motorcycles)\n",
        "```"
      ],
      "metadata": {
        "id": "umvtcjTYJ92v"
      }
    },
    {
      "cell_type": "markdown",
      "source": [
        "### Adding Elements to a List"
      ],
      "metadata": {
        "id": "kun-SEJKKzyT"
      }
    },
    {
      "cell_type": "markdown",
      "source": [
        "\n",
        "You might want to add a new element to a list for many reasons. For example, you might want to make new aliens appear in a game, add new data to a visualization, or add new registered users to a website you’ve built. Python provides several ways to add new data to existing lists."
      ],
      "metadata": {
        "id": "j4qRbkPqK6Wd"
      }
    },
    {
      "cell_type": "markdown",
      "source": [
        "#### Appending Elements to the End of a List\n",
        "\n",
        "`.append()`"
      ],
      "metadata": {
        "id": "ijBpr-ejLCRd"
      }
    },
    {
      "cell_type": "markdown",
      "source": [
        "The simplest way to add a new element to a list is to append the item to the list. When you append an item to a list, the new element is added to the end of the list. Using the same list we had in the previous example, we’ll add the new element `'ducati'` to the end of the list:\n",
        "\n",
        "`listName.append('value')`"
      ],
      "metadata": {
        "id": "h2-CgPtOLJPG"
      }
    },
    {
      "cell_type": "code",
      "source": [
        "motorcycles = ['honda', 'yamaha', 'suzuki']\n",
        "print(motorcycles)\n",
        "\n",
        "motorcycles.append('ducati')   # Appending an item to the list.\n",
        "print(motorcycles)"
      ],
      "metadata": {
        "colab": {
          "base_uri": "https://localhost:8080/"
        },
        "id": "jgJq1b-4LSeh",
        "outputId": "05da296e-a41b-410e-9a88-4d76c26457a4"
      },
      "execution_count": null,
      "outputs": [
        {
          "output_type": "stream",
          "name": "stdout",
          "text": [
            "['honda', 'yamaha', 'suzuki']\n",
            "['honda', 'yamaha', 'suzuki', 'ducati']\n"
          ]
        }
      ]
    },
    {
      "cell_type": "markdown",
      "source": [
        "\n",
        "The `append()` method makes it easy to build lists dynamically. For example, you can start with an empty list and then add items to the list using a series of `append()` calls. Using an empty list, let’s add the elements 'honda', 'yamaha', and 'suzuki' to the list:"
      ],
      "metadata": {
        "id": "f8tu0DvdLx78"
      }
    },
    {
      "cell_type": "code",
      "source": [
        "motorcycles = []\n",
        "\n",
        "motorcycles.append('honda')\n",
        "motorcycles.append('yamaha')\n",
        "motorcycles.append('suzuki')\n",
        "\n",
        "print(motorcycles)"
      ],
      "metadata": {
        "id": "3s3HMT61L-AX"
      },
      "execution_count": null,
      "outputs": []
    },
    {
      "cell_type": "markdown",
      "source": [
        "\n",
        "The resulting list looks exactly the same as the lists in the previous examples:\n",
        "\n",
        "`['honda', 'yamaha', 'suzuki']`"
      ],
      "metadata": {
        "id": "QTYOo6vaMIX_"
      }
    },
    {
      "cell_type": "markdown",
      "source": [
        "#### Inserting Elements into a List\n",
        "`.insert(index, 'value')`"
      ],
      "metadata": {
        "id": "Zl1LQzjYMikV"
      }
    },
    {
      "cell_type": "markdown",
      "source": [
        "\n",
        "You can add a new element at any position in your list by using the `insert()` method. You do this by specifying the index of the new element and the value of the new item:\n",
        "\n",
        "`listName.insert(indexNumber, 'value')`"
      ],
      "metadata": {
        "id": "-FpOwqiyMwj4"
      }
    },
    {
      "cell_type": "code",
      "source": [
        "motorcycles = ['honda', 'yamaha', 'suzuki']\n",
        "\n",
        "motorcycles.insert(0, 'ducati')\n",
        "print(motorcycles)"
      ],
      "metadata": {
        "id": "bDFKqIRnM3LC"
      },
      "execution_count": null,
      "outputs": []
    },
    {
      "cell_type": "markdown",
      "source": [
        "### Removing Elements from a List\n",
        "\n",
        "\n"
      ],
      "metadata": {
        "id": "EzNWd_0zM9GY"
      }
    },
    {
      "cell_type": "markdown",
      "source": [
        "#### Using the `del` Statement\n",
        "`del listName[index]`"
      ],
      "metadata": {
        "id": "d44lFSSHNZAi"
      }
    },
    {
      "cell_type": "markdown",
      "source": [
        "\n",
        "If you know the position of the item you want to remove from a list, you can use the del statement:"
      ],
      "metadata": {
        "id": "MQVCV8kNNgAa"
      }
    },
    {
      "cell_type": "code",
      "source": [
        "motorcycles = ['honda', 'yamaha', 'suzuki']\n",
        "print(motorcycles)\n",
        "\n",
        "del motorcycles[0]\n",
        "print(motorcycles)"
      ],
      "metadata": {
        "id": "tu9h2JQdNivD"
      },
      "execution_count": null,
      "outputs": []
    },
    {
      "cell_type": "markdown",
      "source": [
        "#### Using the `.pop()` Method"
      ],
      "metadata": {
        "id": "wCpdGkr18D_K"
      }
    },
    {
      "cell_type": "markdown",
      "source": [
        "\n",
        "The `.pop()` method removes the last item in a list, but it lets you work with that item after removing it. The term pop comes from thinking of a list as a stack of items and popping one item off the top of the stack. In this analogy, the top of a stack corresponds to the end of a list."
      ],
      "metadata": {
        "id": "vi93Fg7k-YOD"
      }
    },
    {
      "cell_type": "code",
      "source": [
        "motorcycles = ['honda', 'yamaha', 'suzuki']  # ❶\n",
        "print(motorcycles)\n",
        "\n",
        "popped_motorcycle = motorcycles.pop() # ❷ \n",
        "print(motorcycles) # ❸ \n",
        "print(popped_motorcycle) # ❹ "
      ],
      "metadata": {
        "id": "pwbVBVJB-b73"
      },
      "execution_count": null,
      "outputs": []
    },
    {
      "cell_type": "markdown",
      "source": [
        "\n",
        "We start by defining and printing the list motorcycles ❶. Then we pop a value from the list, and assign that value to the variable popped_motorcycle ❷. We print the list ❸ to show that a value has been removed from the list. Then we print the popped value ❹ to prove that we still have access to the value that was removed.\n",
        "The output shows that the value 'suzuki' was removed from the end of the list and is now assigned to the variable popped_motorcycle:\n",
        "\n",
        "```\n",
        "['honda', 'yamaha', 'suzuki']\n",
        "['honda', 'yamaha']\n",
        "suzuki\n",
        "```"
      ],
      "metadata": {
        "id": "H6YBwuLY-u86"
      }
    },
    {
      "cell_type": "markdown",
      "source": [
        "#### Popping Items from Any Position in a List"
      ],
      "metadata": {
        "id": "3AnPSapw-82R"
      }
    },
    {
      "cell_type": "markdown",
      "source": [
        "You can use `.pop()` to remove an item from any position in a list by including the index of the item you want to remove in parentheses:\n",
        "\n",
        "`listName.pop(index)`"
      ],
      "metadata": {
        "id": "lcWlU1cc_Avr"
      }
    },
    {
      "cell_type": "code",
      "source": [
        "motorcycles = ['honda', 'yamaha', 'suzuki']\n",
        "\n",
        "first_owned = motorcycles.pop(0)\n",
        "print(f\"The first motorcycle I owned was a {first_owned.title()}.\")"
      ],
      "metadata": {
        "id": "WCVdb24I_Tvr"
      },
      "execution_count": null,
      "outputs": []
    },
    {
      "cell_type": "markdown",
      "source": [
        "#### Removing an Item by Value\n",
        "`listName.remove('value')`"
      ],
      "metadata": {
        "id": "uCm5_lnp_jTy"
      }
    },
    {
      "cell_type": "markdown",
      "source": [
        "\n",
        "Sometimes you won’t know the position of the value you want to remove from a list. If you only know the value of the item you want to remove, you can use the `.remove()` method.\n",
        "For example, say we want to remove the value `'ducati'` from the list of motorcycles:"
      ],
      "metadata": {
        "id": "BnJG88LNAE7n"
      }
    },
    {
      "cell_type": "code",
      "source": [
        "motorcycles = ['honda', 'yamaha', 'suzuki', 'ducati']\n",
        "print(motorcycles)\n",
        "\n",
        "motorcycles.remove('ducati')\n",
        "print(motorcycles)"
      ],
      "metadata": {
        "id": "qzX3OTSRAJBq"
      },
      "execution_count": null,
      "outputs": []
    },
    {
      "cell_type": "markdown",
      "source": [
        "\n",
        "You can also use the `.remove()` method to work with a value that’s being removed from a list. Let’s remove the value 'ducati' and print a reason for removing it from the list:"
      ],
      "metadata": {
        "id": "mh1jVocjAcfA"
      }
    },
    {
      "cell_type": "code",
      "source": [
        "motorcycles = ['honda', 'yamaha', 'suzuki', 'ducati'] # ❶ \n",
        "print(motorcycles)\n",
        "too_expensive = 'ducati' # ❷ \n",
        "motorcycles.remove(too_expensive) # ❸ \n",
        "print(motorcycles)\n",
        "print(f\"\\nA {too_expensive.title()} is too expensive for me.\") # ❹ "
      ],
      "metadata": {
        "id": "kKumTXUmAnj1"
      },
      "execution_count": null,
      "outputs": []
    },
    {
      "cell_type": "markdown",
      "source": [
        "\n",
        "After defining the list ❶, we assign the value 'ducati' to a variable called too_expensive ❷. We then use this variable to tell Python which value to remove from the list ❸. The value 'ducati' has been removed from the list ❹ but is still accessible through the variable too_expensive, allowing us to print a statement about why we removed 'ducati' from the list of motorcycles:\n",
        "\n",
        "```\n",
        "['honda', 'yamaha', 'suzuki', 'ducati']\n",
        "['honda', 'yamaha', 'suzuki']\n",
        "\n",
        "A Ducati is too expensive for me.\n",
        "```"
      ],
      "metadata": {
        "id": "yUt-GShFA3dj"
      }
    },
    {
      "cell_type": "markdown",
      "source": [
        "The `.remove()` method deletes only the first occurrence of the value you specify. If there’s a possibility the value appears more than once in the list, you’ll need to use a loop to make sure all occurrences of the value are removed."
      ],
      "metadata": {
        "id": "ps-pxE_2BHNp"
      }
    },
    {
      "cell_type": "markdown",
      "source": [
        "## Try It Yourself 3-4  --  3-7\n"
      ],
      "metadata": {
        "id": "xNkvt8dbc2P3"
      }
    },
    {
      "cell_type": "markdown",
      "source": [
        "### 3.4 Guest List"
      ],
      "metadata": {
        "id": "wz1pYC3fdmyV"
      }
    },
    {
      "cell_type": "markdown",
      "source": [
        " If you could invite anyone, living or deceased, to dinner, who would invite? Make a list that includes at least three people you’d like to invite to dinner. Then use your list to print a message to each person, inviting them to dinner."
      ],
      "metadata": {
        "id": "1jLZuBhWdrIK"
      }
    },
    {
      "cell_type": "code",
      "source": [],
      "metadata": {
        "id": "Yonz4SHxdxG4"
      },
      "execution_count": null,
      "outputs": []
    },
    {
      "cell_type": "markdown",
      "source": [
        "### 3.5 Changing Guest List"
      ],
      "metadata": {
        "id": "QfBuf9bMdzjZ"
      }
    },
    {
      "cell_type": "markdown",
      "source": [
        " You just heard that one of your guests can’t make the dinner, so you need to send out a new set of invitations. You’ll have to think of someone else to invite.\n",
        "\n",
        "Start with your program from Exercise 3-4. Add a `print()` call at the end of your program, stating the name of the guest who can’t make it.\n",
        "Modify your list, replacing the name of the guest who can’t make it with the name of the new person you are inviting.\n",
        "Print a second set of invitation messages, one for each person who is still in your list."
      ],
      "metadata": {
        "id": "QU1EXVwYeAwh"
      }
    },
    {
      "cell_type": "code",
      "source": [],
      "metadata": {
        "id": "JKNjYX9DeJMT"
      },
      "execution_count": null,
      "outputs": []
    },
    {
      "cell_type": "markdown",
      "source": [
        "### 3.6  More Guests"
      ],
      "metadata": {
        "id": "p4vUyo6IeKMx"
      }
    },
    {
      "cell_type": "markdown",
      "source": [
        " You just found a bigger dinner table, so now more space is available. Think of three more guests to invite to dinner.\n",
        "\n",
        "Start with your program from Exercise 3-4 or 3-5. Add a `print()` call to the end of your program, informing people that you found a bigger table.\n",
        "\n",
        "Use `insert()` to add one new guest to the beginning of your list.\n",
        "\n",
        "Use `insert()` to add one new guest to the middle of your list.\n",
        "\n",
        "Use `append()` to add one new guest to the end of your list.\n",
        "\n",
        "Print a new set of invitation messages, one for each person in your list."
      ],
      "metadata": {
        "id": "3vtpfko1eSJx"
      }
    },
    {
      "cell_type": "code",
      "source": [],
      "metadata": {
        "id": "_vZfRcZyevQh"
      },
      "execution_count": null,
      "outputs": []
    },
    {
      "cell_type": "markdown",
      "source": [
        "###  3.7 Shrinking Guest List"
      ],
      "metadata": {
        "id": "0s39WZ_rc84R"
      }
    },
    {
      "cell_type": "markdown",
      "source": [
        " Shrinking Guest List: You just found out that your new dinner table won’t arrive in time for the dinner, and now you have space for only two guests.\n",
        "\n",
        "Start with your program from Exercise 3-6. Add a new line that prints a message saying that you can invite only two people for dinner.\n",
        "\n",
        "Use `pop()` to remove guests from your list one at a time until only two names remain in your list. Each time you pop a name from your list, print a message to that person letting them know you’re sorry you can’t invite them to dinner.Print a message to each of the two people still on your list, letting them know they’re still invited.\n",
        "Use del to remove the last two names from your list, so you have an empty list. Print your list to make sure you actually have an empty list at the end of your program."
      ],
      "metadata": {
        "id": "I8nq7nvke5V4"
      }
    },
    {
      "cell_type": "markdown",
      "source": [
        "## Organizing a List"
      ],
      "metadata": {
        "id": "OMUCRZYBglyB"
      }
    },
    {
      "cell_type": "markdown",
      "source": [
        " Python provides a number of different ways to organize your lists, depending on the situation.\n",
        "\n",
        " 1.  `.sort()` Method\n",
        " 2.  `sorted()` Function\n",
        " 3.  `.reverse()` Method"
      ],
      "metadata": {
        "id": "fnsKQ_FxijXh"
      }
    },
    {
      "cell_type": "markdown",
      "source": [
        "### 1. `.sort()` Method\n"
      ],
      "metadata": {
        "id": "-jsB3ueNjt_J"
      }
    },
    {
      "cell_type": "markdown",
      "source": [
        "The sort() method changes the order of the list permanently."
      ],
      "metadata": {
        "id": "x63k4Ywcj620"
      }
    },
    {
      "cell_type": "code",
      "source": [
        "# Run\n",
        "cars = ['bmw', 'audi', 'toyota', 'subaru']\n",
        "cars.sort()\n",
        "\n",
        "print(cars)"
      ],
      "metadata": {
        "id": "O_LkCqCaj-Wd"
      },
      "execution_count": null,
      "outputs": []
    },
    {
      "cell_type": "markdown",
      "source": [
        "\n",
        "You can also sort this list in reverse-alphabetical order by passing the argument reverse=True to the `.sort()` method. The following example sorts the list of cars in reverse-alphabetical order:"
      ],
      "metadata": {
        "id": "wqiPOqfMkONh"
      }
    },
    {
      "cell_type": "code",
      "source": [
        "cars = ['bmw', 'audi', 'toyota', 'subaru']\n",
        "cars.sort(reverse=True)\n",
        "\n",
        "print(cars)"
      ],
      "metadata": {
        "id": "dfH3LVlGkUTv"
      },
      "execution_count": null,
      "outputs": []
    },
    {
      "cell_type": "markdown",
      "source": [
        "### 2. `sorted()` Function"
      ],
      "metadata": {
        "id": "RuBJuoMkkT44"
      }
    },
    {
      "cell_type": "markdown",
      "source": [
        "\n",
        "To maintain the original order of a list but present it in a sorted order, you can use the `sorted()` function. The `sorted()` function lets you display your list in a particular order, but doesn’t affect the actual order of the list."
      ],
      "metadata": {
        "id": "zyl_-x1FkxlP"
      }
    },
    {
      "cell_type": "code",
      "source": [
        "cars = ['bmw', 'audi', 'toyota', 'subaru']\n",
        "\n",
        "print(\"Here is the original list:\")  # ❶ \n",
        "print(cars)\n",
        "\n",
        "print(\"\\nHere is the sorted list:\")  # ❷ \n",
        "print(sorted(cars))\n",
        "\n",
        "print(\"\\nHere is the original list again:\")  # ❸ \n",
        "print(cars)"
      ],
      "metadata": {
        "id": "Qd5omYKqk24e"
      },
      "execution_count": null,
      "outputs": []
    },
    {
      "cell_type": "markdown",
      "source": [
        "We first print the list in its original order ❶ and then in alphabetical order ❷. After the list is displayed in the new order, we show that the list is still stored in its original order ❸. "
      ],
      "metadata": {
        "id": "le1U5rOklHAk"
      }
    },
    {
      "cell_type": "markdown",
      "source": [
        "```\n",
        "Here is the original list:\n",
        "['bmw', 'audi', 'toyota', 'subaru']\n",
        "\n",
        "Here is the sorted list:\n",
        "['audi', 'bmw', 'subaru', 'toyota']\n",
        "\n",
        "❶ Here is the original list again:\n",
        "['bmw', 'audi', 'toyota', 'subaru']\n",
        "```\n",
        "\n",
        "Notice that the list still exists in its original order ❶ after the `sorted()` function has been used."
      ],
      "metadata": {
        "id": "sPKFxRxKlQik"
      }
    },
    {
      "cell_type": "markdown",
      "source": [
        " The `sorted()` function can also accept a `reverse=True` argument if you want to display a list in reverse-alphabetical order."
      ],
      "metadata": {
        "id": "5fhHEywkm8wt"
      }
    },
    {
      "cell_type": "markdown",
      "source": [
        "### 3. `.reverse()` Method"
      ],
      "metadata": {
        "id": "28tBL8cDnhyz"
      }
    },
    {
      "cell_type": "markdown",
      "source": [
        "\n",
        "To reverse the original order of a list, you can use the `.reverse()` method. If we originally stored the list of cars in chronological order according to when we owned them, we could easily rearrange the list into reverse-chronological order:"
      ],
      "metadata": {
        "id": "tFXyjG7Cnuhy"
      }
    },
    {
      "cell_type": "code",
      "source": [
        "cars = ['bmw', 'audi', 'toyota', 'subaru']\n",
        "print('Original List:')\n",
        "print(cars)\n",
        "\n",
        "print()\n",
        "\n",
        "cars.reverse()\n",
        "print('Reversed List:')\n",
        "print(cars)"
      ],
      "metadata": {
        "colab": {
          "base_uri": "https://localhost:8080/"
        },
        "id": "XqZ1aXXvn0Nu",
        "outputId": "81b0dd46-c5bc-4d9b-c6e0-f64e8164b148"
      },
      "execution_count": null,
      "outputs": [
        {
          "output_type": "stream",
          "name": "stdout",
          "text": [
            "Original List:\n",
            "['bmw', 'audi', 'toyota', 'subaru']\n",
            "\n",
            "Reversed List:\n",
            "['subaru', 'toyota', 'audi', 'bmw']\n"
          ]
        }
      ]
    },
    {
      "cell_type": "markdown",
      "source": [
        "Notice that `.reverse()` doesn’t sort backward alphabetically; it simply reverses the order of the list:\n",
        "\n",
        "```\n",
        "['bmw', 'audi', 'toyota', 'subaru']\n",
        "['subaru', 'toyota', 'audi', 'bmw']\n",
        "```"
      ],
      "metadata": {
        "id": "GzdKti3cn9iX"
      }
    },
    {
      "cell_type": "markdown",
      "source": [
        "\n",
        "The `.reverse()` method changes the order of a list permanently, but you can revert to the original order anytime by applying `.reverse()` to the same list a second time."
      ],
      "metadata": {
        "id": "1oC7lw8-okqK"
      }
    },
    {
      "cell_type": "markdown",
      "source": [
        "## Finding the Length of a List\n",
        "`len()` function"
      ],
      "metadata": {
        "id": "dQmFO3Bgo4Eq"
      }
    },
    {
      "cell_type": "markdown",
      "source": [
        "\n",
        "You can quickly find the length of a list by using the len() function. The list in this example has four items, so its length is 4:\n",
        "\n",
        "```\n",
        ">>> cars = ['bmw', 'audi', 'toyota', 'subaru']\n",
        ">>> len(cars)\n",
        "4\n",
        "```"
      ],
      "metadata": {
        "id": "O8WgwtOppcUH"
      }
    },
    {
      "cell_type": "markdown",
      "source": [
        "You’ll find `len()` useful when you need to identify the number of aliens that still need to be shot down in a game, determine the amount of data you have to manage in a visualization, or figure out the number of registered users on a website, among other tasks."
      ],
      "metadata": {
        "id": "qhKYDDY3ptwu"
      }
    },
    {
      "cell_type": "markdown",
      "source": [
        "## Try It Yourself 3-8  --  3-11"
      ],
      "metadata": {
        "id": "mZ9jZ2g6cE0N"
      }
    },
    {
      "cell_type": "markdown",
      "source": [
        "### 3-8  Seeing the World\n"
      ],
      "metadata": {
        "id": "n7W2V2yJdrNk"
      }
    },
    {
      "cell_type": "markdown",
      "source": [
        "\n",
        "\n",
        "\n",
        " Think of at least five places in the world you’d like to visit.\n",
        "\n",
        "Store the locations in a list. Make sure the list is not in alphabetical order.\n",
        "Print your list in its original order. Don’t worry about printing the list neatly; just print it as a raw Python list.\n",
        "\n",
        "\n",
        "* Use `sorted()` to print your list in alphabetical order without modifying the actual list.\n",
        "\n",
        "* Show that your list is still in its original order by printing it.\n",
        "Use `sorted()` to print your list in reverse-alphabetical order without changing the order of the original list.\n",
        "\n",
        "* Show that your list is still in its original order by printing it again.\n",
        "Use `reverse()` to change the order of your list. Print the list to show that its order has changed.\n",
        "\n",
        "* Use `reverse()` to change the order of your list again. Print the list to show it’s back to its original order.\n",
        "\n",
        "* Use `sort()` to change your list so it’s stored in alphabetical order. Print the list to show that its order has been changed.\n",
        "\n",
        "* Use `sort()` to change your list so it’s stored in reverse-alphabetical order. Print the list to show that its order has changed.\n",
        "\n"
      ],
      "metadata": {
        "id": "VeO0rTAbcTBv"
      }
    },
    {
      "cell_type": "code",
      "source": [],
      "metadata": {
        "id": "umorCDNwdmdV"
      },
      "execution_count": null,
      "outputs": []
    },
    {
      "cell_type": "markdown",
      "source": [
        "### 3-9  Dinner Guests"
      ],
      "metadata": {
        "id": "iEFvKcjydm20"
      }
    },
    {
      "cell_type": "markdown",
      "source": [
        " Working with one of the programs from Exercises 3-4 through 3-7, use `len()` to print a message indicating the number of people you’re inviting to dinner."
      ],
      "metadata": {
        "id": "zPq4dRa0dwDs"
      }
    },
    {
      "cell_type": "code",
      "source": [],
      "metadata": {
        "id": "0Iw9u37_dxmE"
      },
      "execution_count": null,
      "outputs": []
    },
    {
      "cell_type": "markdown",
      "source": [
        "### 3-10  Every Function"
      ],
      "metadata": {
        "id": "EaLZsiFheoov"
      }
    },
    {
      "cell_type": "markdown",
      "source": [
        " Think of things you could store in a list. For example, you could make a list of mountains, rivers, countries, cities, languages, or anything else you’d like. Write a program that creates a list containing these items and then uses each function introduced in this chapter at least once."
      ],
      "metadata": {
        "id": "HBH08NjZetqO"
      }
    },
    {
      "cell_type": "code",
      "source": [],
      "metadata": {
        "id": "tBsg7TDDfY1j"
      },
      "execution_count": null,
      "outputs": []
    },
    {
      "cell_type": "markdown",
      "source": [
        "### 3-11  Intentional Error"
      ],
      "metadata": {
        "id": "7pOT6QvBgBVe"
      }
    },
    {
      "cell_type": "markdown",
      "source": [
        " If you haven’t received an index error in one of your programs yet, try to make one happen. Change an index in one of your programs to produce an index error. Make sure you correct the error before closing the program."
      ],
      "metadata": {
        "id": "p2hqGzh_gPO2"
      }
    },
    {
      "cell_type": "code",
      "source": [],
      "metadata": {
        "id": "g7pZnDrLgQP1"
      },
      "execution_count": null,
      "outputs": []
    },
    {
      "cell_type": "markdown",
      "source": [
        "\n",
        "\n",
        "---\n",
        "\n",
        "\n",
        "\n",
        "---\n",
        "\n"
      ],
      "metadata": {
        "id": "vX66Y9lqfa8f"
      }
    },
    {
      "cell_type": "markdown",
      "source": [
        "# 4.Working with Lists"
      ],
      "metadata": {
        "id": "XUe7I-V7gt-v"
      }
    },
    {
      "cell_type": "markdown",
      "source": [
        "## Looping Through an Entire List"
      ],
      "metadata": {
        "id": "SneD7FkYjZLt"
      }
    },
    {
      "cell_type": "markdown",
      "source": [
        " In this chapter you’ll learn how to loop through an entire list using just a few lines of code, regardless of how long the list is. Looping allows you to take the same action, or set of actions, with every item in a list. As a result, you’ll be able to work efficiently with lists of any length, including those with thousands or even millions of items."
      ],
      "metadata": {
        "id": "m92fXo1SjOwX"
      }
    },
    {
      "cell_type": "markdown",
      "source": [
        "\n",
        "You’ll often want to run through all entries in a list, performing the same task with each item. For example, in a game you might want to move every element on the screen by the same amount. In a list of numbers, you might want to perform the same statistical operation on every element. Or perhaps you’ll want to display each headline from a list of articles on a website. When you want to do the same action with every item in a list, you can use Python’s for loop."
      ],
      "metadata": {
        "id": "Xj51SGWcjtsW"
      }
    },
    {
      "cell_type": "markdown",
      "source": [
        "\n",
        "Say we have a list of magicians’ names, and we want to print out each name in the list. We could do this by retrieving each name from the list individually, but this approach could cause several problems. For one, it would be repetitive to do this with a long list of names. Also, we’d have to change our code each time the list’s length changed. Using a for loop avoids both of these issues by letting Python manage these issues internally.\n",
        "Let’s use a for loop to print out each name in a list of magicians:"
      ],
      "metadata": {
        "id": "2RUAu2mRj_12"
      }
    },
    {
      "cell_type": "code",
      "source": [
        "magicians = ['alice', 'david', 'carolina']\n",
        "for magician in magicians:\n",
        "    print(magician)"
      ],
      "metadata": {
        "id": "MRlGmOFekGDZ"
      },
      "execution_count": null,
      "outputs": []
    },
    {
      "cell_type": "markdown",
      "source": [
        "\n",
        "We begin by defining a list, just as we did in the last Chapter. Then we define a for loop. This line tells Python to pull a name from the list magicians, and associate it with the variable `magician`. Next, we tell Python to print the name that’s just been assigned to magician. Python then repeats these last two lines, once for each name in the list. It might help to read this code as “For every `magician` in the list of `magicians`, print the magician’s name.” The output is a simple printout of each name in the list."
      ],
      "metadata": {
        "id": "I0IXT8bjkfOi"
      }
    },
    {
      "cell_type": "markdown",
      "source": [
        "## A Closer Look at Looping"
      ],
      "metadata": {
        "id": "1-H4h9WIlEFX"
      }
    },
    {
      "cell_type": "markdown",
      "source": [
        "\n",
        "Looping is important because it’s one of the most common ways a computer automates repetitive tasks. For example, in a simple loop like we used in `magicians.py`, Python initially reads the first line of the loop:\n",
        "```\n",
        "for magician in magicians:\n",
        "```\n",
        "This line tells Python to retrieve the first value from the list `magicians` and associate it with the variable `magician`. This first value is `'alice'`. Python then reads the next line:\n",
        "```\n",
        "print(magician)\n",
        "```\n",
        "\n",
        "\n",
        "Python prints the current value of `magician`, which is still `'alice'`. Because the list contains more values, Python returns to the first line of the loop:\n",
        "```\n",
        "\n",
        "for magician in magicians:\n",
        "```\n",
        "\n",
        "Python retrieves the next name in the list, `'david'`, and associates that value with the variable `magician`. Python then executes the line:\n",
        "```\n",
        "print(magician)\n",
        "```\n",
        "Python prints the current value of magician again, which is now `'david'`. Python repeats the entire loop once more with the last value in the list, `'carolina'`. Because no more values are in the list, Python moves on to the next line in the program. In this case nothing comes after the for loop, so the program ends."
      ],
      "metadata": {
        "id": "iChH4KXnlXgP"
      }
    },
    {
      "cell_type": "markdown",
      "source": [
        "\n",
        "Also keep in mind when writing your own for loops that you can choose **any name** you want for the temporary variable that will be associated with each value in the list. However, it’s helpful to choose a meaningful name that represents a single item from the list. For example, here’s a good way to start a for loop for a list of cats, a list of dogs, and a general list of items:\n",
        "```\n",
        "for cat in cats:\n",
        "for dog in dogs:\n",
        "for item in list_of_items:\n",
        "```"
      ],
      "metadata": {
        "id": "u7bFIG1VmmRb"
      }
    },
    {
      "cell_type": "markdown",
      "source": [
        "## Doing More Work Within a for Loop"
      ],
      "metadata": {
        "id": "8Q0iIzGnnJW5"
      }
    },
    {
      "cell_type": "markdown",
      "source": [
        "\n",
        "You can do just about anything with each item in a for loop. Let’s build on the previous example by printing a message to each magician, telling them that they performed a great trick:"
      ],
      "metadata": {
        "id": "S4HXbSF1nQP-"
      }
    },
    {
      "cell_type": "code",
      "source": [
        "magicians = ['alice', \n",
        "             'david',\n",
        "             'carolina']\n",
        "for magician in magicians:\n",
        "    print('Hey You!')\n",
        "    print(f\"{magician.title()}, that was a great trick!\")"
      ],
      "metadata": {
        "id": "dGB5r9asnTrO",
        "colab": {
          "base_uri": "https://localhost:8080/"
        },
        "outputId": "101a7282-2273-4d21-b8ff-e0a4ea02001a"
      },
      "execution_count": null,
      "outputs": [
        {
          "output_type": "stream",
          "name": "stdout",
          "text": [
            "Hey You!\n",
            "Alice, that was a great trick!\n",
            "Hey You!\n",
            "David, that was a great trick!\n",
            "Hey You!\n",
            "Carolina, that was a great trick!\n"
          ]
        }
      ]
    },
    {
      "cell_type": "markdown",
      "source": [
        "\n",
        "You can also write as many lines of code as you like in the for loop. Every indented line following the line for magician in magicians is considered inside the loop, and each indented line is executed once for each value in the list. Therefore, you can do as much work as you like with each value in the list.\n",
        "Let’s add a second line to our message, telling each magician that we’re looking forward to their next trick:"
      ],
      "metadata": {
        "id": "srDeK9kYnsz2"
      }
    },
    {
      "cell_type": "code",
      "source": [
        "magicians = ['alice', 'david', 'carolina']\n",
        "for magician in magicians:\n",
        "    print(f\"{magician.title()}, that was a great trick!\")\n",
        "    print(f\"I can't wait to see your next trick, {magician.title()}.\\n\")"
      ],
      "metadata": {
        "id": "rOv3-22Int1O"
      },
      "execution_count": null,
      "outputs": []
    },
    {
      "cell_type": "markdown",
      "source": [],
      "metadata": {
        "id": "0ZbGlwFIg426"
      }
    },
    {
      "cell_type": "markdown",
      "source": [
        "# 5.`if` Statements"
      ],
      "metadata": {
        "id": "_nlDqrmWg7X0"
      }
    },
    {
      "cell_type": "markdown",
      "source": [
        "# 6.Dictionaries"
      ],
      "metadata": {
        "id": "p42ct23djRnY"
      }
    },
    {
      "cell_type": "markdown",
      "source": [
        "# 7.User `input` and `while` Loops"
      ],
      "metadata": {
        "id": "w2BwZbenhjp3"
      }
    },
    {
      "cell_type": "markdown",
      "source": [
        "## Try It Yourself 7-8"
      ],
      "metadata": {
        "id": "vdzUZ7osRFNy"
      }
    },
    {
      "cell_type": "markdown",
      "source": [
        "### Sandwich-Order"
      ],
      "metadata": {
        "id": "eTiaQ0bDRa93"
      }
    },
    {
      "cell_type": "markdown",
      "source": [
        "1. Make a list of sandwiches\n",
        "2. Make an empty list\n",
        "3. Loop through the sandwiches list and build a text for each sandwich"
      ],
      "metadata": {
        "id": "WaAb0s67RpN0"
      }
    },
    {
      "cell_type": "code",
      "source": [
        "sandwiche_orders = [\n",
        "                    'bandari',\n",
        "                    'meat',\n",
        "                    'chicken',\n",
        "                    'hot dog', \n",
        "                    'burger', \n",
        "                    'cheese burger',\n",
        "                    'Mushroom Burger']\n",
        "\n",
        "finished_orders = []\n",
        "for item in sandwiche_orders:\n",
        "  text = f\"I made your {item}.\"\n",
        "  finished_orders.append(text)\n",
        "\n",
        "for item in finished_orders:\n",
        "  print(item)  \n"
      ],
      "metadata": {
        "id": "yTqQcFCcR4Ec",
        "colab": {
          "base_uri": "https://localhost:8080/"
        },
        "outputId": "63bcd7cf-9c6d-4cee-a4e1-27c3aec2bc59"
      },
      "execution_count": null,
      "outputs": [
        {
          "output_type": "stream",
          "name": "stdout",
          "text": [
            "I made your bandari.\n",
            "I made your meat.\n",
            "I made your chicken.\n",
            "I made your hot dog.\n",
            "I made your burger.\n",
            "I made your cheese burger.\n",
            "I made your Mushroom Burger.\n"
          ]
        }
      ]
    },
    {
      "cell_type": "markdown",
      "source": [
        "# 8.Functions"
      ],
      "metadata": {
        "id": "KibWGkOLVOfj"
      }
    },
    {
      "cell_type": "markdown",
      "source": [
        "## What is a Function?"
      ],
      "metadata": {
        "id": "zS10msuWUoWS"
      }
    },
    {
      "cell_type": "markdown",
      "source": [
        "Functions are named blocks of code, designed to do a specific job(s).\n"
      ],
      "metadata": {
        "id": "m-A1PR0RVUeA"
      }
    },
    {
      "cell_type": "markdown",
      "source": [
        "فانکشن ها بلوک های کد دارای اسم هستند که برای انجام کار(های) خاصی طراحی شده اند."
      ],
      "metadata": {
        "id": "S5yp4jT-j8Ev"
      }
    },
    {
      "cell_type": "markdown",
      "source": [
        "A function is a block of code with a name. After a Function is **def**ined, we can call its name many times\n",
        " and it will do the `job(s)`. \n",
        " \n",
        "  🐍"
      ],
      "metadata": {
        "id": "YTrPedoOBU-M"
      }
    },
    {
      "cell_type": "markdown",
      "source": [
        "Let's define a function. It has two parts:\n",
        "\n",
        "1. Head: the first line. \n",
        "It starts with `def` and ends with (`:`)\n",
        "2. Body: indented from the head.\n",
        "(two spaces,a tab,...)"
      ],
      "metadata": {
        "id": "l1T7z3-VCaLU"
      }
    },
    {
      "cell_type": "code",
      "source": [
        "def sayHi():\n",
        "  print('Hi')"
      ],
      "metadata": {
        "id": "h0r7KiisavIM"
      },
      "execution_count": null,
      "outputs": []
    },
    {
      "cell_type": "code",
      "source": [
        "sayHi()"
      ],
      "metadata": {
        "id": "uQznnXA6a121",
        "colab": {
          "base_uri": "https://localhost:8080/"
        },
        "outputId": "3b1bfdec-3d5d-499f-fa7f-bb1afc97e370"
      },
      "execution_count": null,
      "outputs": [
        {
          "output_type": "stream",
          "name": "stdout",
          "text": [
            "Hi\n"
          ]
        }
      ]
    },
    {
      "cell_type": "code",
      "source": [
        "for i in range(10):\n",
        "  sayHi()"
      ],
      "metadata": {
        "colab": {
          "base_uri": "https://localhost:8080/"
        },
        "id": "uVG6OLu_bEJI",
        "outputId": "4b37aedf-1a9f-4244-9520-e2ccce31b111"
      },
      "execution_count": null,
      "outputs": [
        {
          "output_type": "stream",
          "name": "stdout",
          "text": [
            "Hi\n",
            "Hi\n",
            "Hi\n",
            "Hi\n",
            "Hi\n",
            "Hi\n",
            "Hi\n",
            "Hi\n",
            "Hi\n",
            "Hi\n"
          ]
        }
      ]
    },
    {
      "cell_type": "markdown",
      "source": [
        "## Arguments"
      ],
      "metadata": {
        "id": "QESwHPFEb0aW"
      }
    },
    {
      "cell_type": "markdown",
      "source": [
        "Most of the functions have arguments which gives them more instructions on how to do the job."
      ],
      "metadata": {
        "id": "zCC6EV0Cb4Ox"
      }
    },
    {
      "cell_type": "code",
      "source": [
        "def echo(text):\n",
        "  print('\\t'+text)"
      ],
      "metadata": {
        "id": "OxL1ENKTFZMO"
      },
      "execution_count": null,
      "outputs": []
    },
    {
      "cell_type": "code",
      "source": [
        "echo(\"Hello.\")"
      ],
      "metadata": {
        "colab": {
          "base_uri": "https://localhost:8080/"
        },
        "id": "oKFk3AuKR3OZ",
        "outputId": "164618f7-29a9-43b8-94dd-c2bec42ad93c"
      },
      "execution_count": null,
      "outputs": [
        {
          "output_type": "stream",
          "name": "stdout",
          "text": [
            "\tHello.\n"
          ]
        }
      ]
    },
    {
      "cell_type": "code",
      "source": [
        "sentence = \"I love rock 'n roll!\".title()\n",
        "echo(sentence)"
      ],
      "metadata": {
        "colab": {
          "base_uri": "https://localhost:8080/"
        },
        "id": "2996Lm8dF-hQ",
        "outputId": "26bfec1f-cbc5-4ff1-ddad-cd8d6b642b36"
      },
      "execution_count": null,
      "outputs": [
        {
          "output_type": "stream",
          "name": "stdout",
          "text": [
            "\tI Love Rock 'N Roll!\n"
          ]
        }
      ]
    },
    {
      "cell_type": "code",
      "source": [
        "def greet(name):\n",
        "  print(f\"Hello {name.title()}.\")"
      ],
      "metadata": {
        "id": "cEQrhwdmWKST"
      },
      "execution_count": null,
      "outputs": []
    },
    {
      "cell_type": "code",
      "source": [
        "greet('sam')"
      ],
      "metadata": {
        "colab": {
          "base_uri": "https://localhost:8080/"
        },
        "id": "a4K4BzUkQz6v",
        "outputId": "159018c3-79e3-447c-b87b-bedd52f1aa7e"
      },
      "execution_count": null,
      "outputs": [
        {
          "output_type": "stream",
          "name": "stdout",
          "text": [
            "Hello Sam.\n"
          ]
        }
      ]
    },
    {
      "cell_type": "markdown",
      "source": [
        "## Try It Yourself 8-1"
      ],
      "metadata": {
        "id": "DuvenqxjbHqq"
      }
    },
    {
      "cell_type": "code",
      "source": [
        "# Ilia"
      ],
      "metadata": {
        "id": "eauKlJ0HYMxe"
      },
      "execution_count": null,
      "outputs": []
    },
    {
      "cell_type": "code",
      "source": [
        "# Elika"
      ],
      "metadata": {
        "id": "amE6nl3mYO2z"
      },
      "execution_count": null,
      "outputs": []
    },
    {
      "cell_type": "markdown",
      "source": [
        "---\n",
        "---\n"
      ],
      "metadata": {
        "id": "lIhh_nL_Vo7s"
      }
    },
    {
      "cell_type": "markdown",
      "source": [
        "## Try It Yourself 8-2"
      ],
      "metadata": {
        "id": "8hu2rz1NbFLj"
      }
    },
    {
      "cell_type": "markdown",
      "source": [
        "\n",
        "\n",
        "```\n",
        ">>> favorite_book('Alice in Wonderland')\n",
        "I love the book 'Alice in Wonderland'\n",
        "\n",
        "```\n",
        "\n"
      ],
      "metadata": {
        "id": "zf4ramc4bl6d"
      }
    },
    {
      "cell_type": "markdown",
      "source": [
        "1.  Write a function called `favorite_book()`\n",
        "2.  It should take the name of a book as an argument.\n",
        "3.  Then print a text about it.\n",
        "\n",
        "```\n",
        "I'd like to read {book_title}\n",
        "```"
      ],
      "metadata": {
        "id": "ZRooGfsfbSXr"
      }
    },
    {
      "cell_type": "code",
      "source": [
        "# TODO"
      ],
      "metadata": {
        "id": "8xeYS57KGwKZ"
      },
      "execution_count": null,
      "outputs": []
    },
    {
      "cell_type": "code",
      "source": [
        "def describe_pet(pet_type, pet_name):\n",
        "  print(f\"\\nI have a {pet_type}.\")\n",
        "  print(f\"My {pet_type}'s name is {pet_name}.\")"
      ],
      "metadata": {
        "id": "r02OG49Fe-dL"
      },
      "execution_count": null,
      "outputs": []
    },
    {
      "cell_type": "code",
      "source": [
        "def describe_pet(pet_name, pet_type='dog'):\n",
        "  print(f'I have a {pet_type}.')\n",
        "  print(f\"My {pet_type}'s name is {pet_name}.\")\n",
        "\n",
        "describe_pet('Barfi')"
      ],
      "metadata": {
        "colab": {
          "base_uri": "https://localhost:8080/"
        },
        "id": "5Qw-c6Ppg_yu",
        "outputId": "5e3db915-cd93-4837-dd0e-3298cb021c2e"
      },
      "execution_count": null,
      "outputs": [
        {
          "output_type": "stream",
          "name": "stdout",
          "text": [
            "I have a dog.\n",
            "My dog's name is Barfi.\n"
          ]
        }
      ]
    },
    {
      "cell_type": "markdown",
      "source": [
        "Colplete the three words sentence with a word from the list of adjectives."
      ],
      "metadata": {
        "id": "WLd_VKdBYh8U"
      }
    },
    {
      "cell_type": "code",
      "execution_count": null,
      "metadata": {
        "id": "n-JXvrlXIaHf"
      },
      "outputs": [],
      "source": [
        "def loveIs(index):\n",
        "  love_adjectives = ['Wonderful',\n",
        "  'Gratifying', 'Effortless', 'Blind',\n",
        "  'Bold',  'Fool', 'Errand', 'Forgiving',\n",
        "  'Respectful', 'Reckless', 'Beautiful',\n",
        "  'Consuming', 'Belonging']\n",
        "\n",
        "  text = f\"❤ is {love_adjectives[index]}.\"  \n",
        "  print(text)"
      ]
    },
    {
      "cell_type": "code",
      "source": [
        "loveIs(3)"
      ],
      "metadata": {
        "id": "J2RadinQXI0S"
      },
      "execution_count": null,
      "outputs": []
    },
    {
      "cell_type": "markdown",
      "source": [
        "## Try It Yourself 8-3"
      ],
      "metadata": {
        "id": "f866cObmirno"
      }
    },
    {
      "cell_type": "markdown",
      "source": [
        "1. define a function that takes two arguments:\n",
        "  1. Size of the T-shirt\n",
        "  2. Text to be printed on the T-shirt\n",
        "2. print out:\n",
        " ```\n",
        " Your T-shirt with size: ... and text: ... is ready\n",
        " ```"
      ],
      "metadata": {
        "id": "Hn7rd16aiyee"
      }
    },
    {
      "cell_type": "code",
      "source": [
        "# Ilia\n"
      ],
      "metadata": {
        "id": "lnPO9pVWjRb1"
      },
      "execution_count": null,
      "outputs": []
    },
    {
      "cell_type": "code",
      "source": [
        "# Elika\n",
        "def make_shirt(Size, Text):\n",
        "  print(f\"Your T-shirt with Size: {Size} and Text: {Text} is ready.\")\n",
        "\n",
        "make_shirt(\"M\", \"Weekend\")  \n",
        "\n"
      ],
      "metadata": {
        "id": "BEZY-AZNjR_A",
        "colab": {
          "base_uri": "https://localhost:8080/"
        },
        "outputId": "456ed8ff-7a8d-4fa8-a6dd-f9bd95732841"
      },
      "execution_count": null,
      "outputs": [
        {
          "output_type": "stream",
          "name": "stdout",
          "text": [
            "Your T-shirt with Size: M and Text: Weekend is ready.\n"
          ]
        }
      ]
    },
    {
      "cell_type": "code",
      "source": [
        "# Karen\n",
        "\n",
        "\n"
      ],
      "metadata": {
        "id": "1o7r_CJZjSgY"
      },
      "execution_count": null,
      "outputs": []
    },
    {
      "cell_type": "markdown",
      "source": [
        "## Try It Yourself 8-4"
      ],
      "metadata": {
        "id": "gwNM_AxNmkFx"
      }
    },
    {
      "cell_type": "markdown",
      "source": [
        "8-4. Large Shirts: Modify the make_shirt() function so that shirts are large by default with a message that reads I love Python. Make a large shirt and a medium shirt with the default message, and a shirt of any size with a different message."
      ],
      "metadata": {
        "id": "vAYvNPRumzdL"
      }
    },
    {
      "cell_type": "code",
      "source": [
        "# Elika\n",
        "\n",
        "def make_shirt(Size, Text):\n",
        "  print(f\"Your T-shirt with Size: {Size} and Text: {Text} is ready.\")\n"
      ],
      "metadata": {
        "id": "lp6zu0GsnB04"
      },
      "execution_count": null,
      "outputs": []
    },
    {
      "cell_type": "code",
      "source": [],
      "metadata": {
        "id": "dsx7xkjMnNyo"
      },
      "execution_count": null,
      "outputs": []
    },
    {
      "cell_type": "code",
      "source": [
        "# Ilia\n",
        "\n",
        "def make_shirt(size='medium',text='vibes'):\n",
        "  print(f'your t_shirt in {size} and with {text} text is ready')\n",
        "make_shirt('large')\n",
        "make_shirt(text='i love codding')  "
      ],
      "metadata": {
        "id": "-68Dy0vdnO7S",
        "colab": {
          "base_uri": "https://localhost:8080/"
        },
        "outputId": "1d691481-1df4-4a8f-e058-1fe2548b5a17"
      },
      "execution_count": null,
      "outputs": [
        {
          "output_type": "stream",
          "name": "stdout",
          "text": [
            "your t_shirt in large and with vibes text is ready\n",
            "your t_shirt in medium and with i love codding text is ready\n"
          ]
        }
      ]
    }
  ]
}