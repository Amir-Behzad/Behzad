{
  "nbformat": 4,
  "nbformat_minor": 0,
  "metadata": {
    "colab": {
      "provenance": [],
      "collapsed_sections": [
        "srw_DLiMU4Jq",
        "1yzvkzUesqQP",
        "qYpHVad4uNAi"
      ],
      "toc_visible": true,
      "include_colab_link": true
    },
    "kernelspec": {
      "name": "python3",
      "display_name": "Python 3"
    },
    "language_info": {
      "name": "python"
    }
  },
  "cells": [
    {
      "cell_type": "markdown",
      "metadata": {
        "id": "view-in-github",
        "colab_type": "text"
      },
      "source": [
        "<a href=\"https://colab.research.google.com/github/Amir-Behzad/Behzad/blob/master/Python_101.ipynb\" target=\"_parent\"><img src=\"https://colab.research.google.com/assets/colab-badge.svg\" alt=\"Open In Colab\"/></a>"
      ]
    },
    {
      "cell_type": "markdown",
      "source": [
        "# Python 101\n",
        "> Amir Behzad Ebrahimi"
      ],
      "metadata": {
        "id": "42fMDIm5LXax"
      }
    },
    {
      "cell_type": "markdown",
      "source": [
        "# Hello World!"
      ],
      "metadata": {
        "id": "mQDdoDJKKfWR"
      }
    },
    {
      "cell_type": "markdown",
      "source": [
        "┌───── •✧✧• ─────┐\n",
        "\n",
        "          Hello World! \n",
        "\n",
        "└───── •✧✧• ─────┘"
      ],
      "metadata": {
        "id": "TkWJFvDfnoMa"
      }
    },
    {
      "cell_type": "markdown",
      "source": [
        "## First Things First"
      ],
      "metadata": {
        "id": "DRDbUFGGnow2"
      }
    },
    {
      "cell_type": "markdown",
      "source": [
        "Let's build the most simple app written in Python language. A simple app to display a text. It simply prints out a text (and also includes a new line at the end.)\n",
        "We are going to type a code for printing out the text: `'Hello World!'`"
      ],
      "metadata": {
        "id": "-iMANJTUnvjk"
      }
    },
    {
      "cell_type": "code",
      "source": [
        "print('Hello World!')"
      ],
      "metadata": {
        "colab": {
          "base_uri": "https://localhost:8080/"
        },
        "id": "1iyIXmneR-tW",
        "outputId": "07628204-6b51-4e9f-fdfc-4bc3dc3c2153"
      },
      "execution_count": null,
      "outputs": [
        {
          "output_type": "stream",
          "name": "stdout",
          "text": [
            "Hello World!\n"
          ]
        }
      ]
    },
    {
      "cell_type": "markdown",
      "source": [
        "# Strings"
      ],
      "metadata": {
        "id": "c-4XWH7wMRP5"
      }
    },
    {
      "cell_type": "markdown",
      "source": [
        "## What is a **string**?"
      ],
      "metadata": {
        "id": "gHkLDymjZO61"
      }
    },
    {
      "cell_type": "markdown",
      "source": [
        " The first data type we’ll look at is the string. Strings are quite simple at first glance, but you can use them in many different ways.\n",
        "A string is a series of characters. Anything inside quotes is considered a string in Python, and you can use single or double quotes around your strings like this:\n",
        "\n",
        "\n",
        "\n",
        "```\n",
        "\"This is a string.\"\n",
        "```\n",
        "\n",
        "\n",
        "\n",
        "```\n",
        "'This is also a string.'\n",
        "```\n",
        "\n"
      ],
      "metadata": {
        "id": "3_rZw3hLMt5x"
      }
    },
    {
      "cell_type": "markdown",
      "source": [
        "\n",
        "This flexibility allows you to use quotes and apostrophes within your strings:\n",
        "\n",
        "\n",
        "\n",
        "```\n",
        "'I told my friend, \"Python is my favorite language!\"'\n",
        "\"I'm happy.\"\n",
        "```\n",
        "\n",
        "\n",
        "\n",
        "```\n",
        "\"The language 'Python' is named after Monty Python, not the snake.\"\n",
        "```\n",
        "\n"
      ],
      "metadata": {
        "id": "7ofBQ59ENJxw"
      }
    },
    {
      "cell_type": "markdown",
      "source": [
        "## Changing Case in a String with **Methods**\n",
        "\n"
      ],
      "metadata": {
        "id": "gSD7pWixNnr9"
      }
    },
    {
      "cell_type": "markdown",
      "source": [
        "A **method** is an action that Python can perform on a piece of data.\n",
        "\n",
        "Some String Methods:\n",
        "* `title()`\n",
        "* `lower()`\n",
        "* `upper()`"
      ],
      "metadata": {
        "id": "9pnqH1GgZan1"
      }
    },
    {
      "cell_type": "markdown",
      "source": [
        "\n",
        "One of the simplest tasks you can do with strings is change the case of the words in a string."
      ],
      "metadata": {
        "id": "TSBHS9AZNy1X"
      }
    },
    {
      "cell_type": "code",
      "execution_count": null,
      "metadata": {
        "id": "R7oNN-FyKej1",
        "colab": {
          "base_uri": "https://localhost:8080/"
        },
        "outputId": "37d9375c-5984-48c2-99af-8dd5dd11eb96"
      },
      "outputs": [
        {
          "output_type": "stream",
          "name": "stdout",
          "text": [
            "Behzad Ebrahimi\n"
          ]
        }
      ],
      "source": [
        "# TODO run this cell.\n",
        "name = \"behzad ebrahimi\"\n",
        "# print(name)\n",
        "print(name.title())\n"
      ]
    },
    {
      "cell_type": "markdown",
      "source": [
        "In the cell above, the variable `name` refers to the lowercase string `\"behzad ebrahimi\"`. \n",
        "The method `title()` appears after the variable in the `print()` call.\n",
        "\n",
        " A **method** is an action that Python can perform on a piece of data. The dot (`.`) after `name` in `name.title()` tells Python to make the `title()` method act on the variable `name`. Every method is followed by a set of parentheses, because methods often need additional information to do their work. That information is provided inside the parentheses. The `title()` function doesn’t need any additional information, so its parentheses are empty.\n",
        "\n",
        " \n",
        "The `title()` method changes each word to title case, where each word begins with a capital letter. This is useful because you’ll often want to think of a name as a piece of information. For example, you might want your program to recognize the input values Ada, ADA, and ada as the same name, and display all of them as Ada."
      ],
      "metadata": {
        "id": "XBM4a4b2OPSy"
      }
    },
    {
      "cell_type": "markdown",
      "source": [
        "## Using Variables in Strings\n",
        "\n",
        "\n",
        "\n",
        "> F-String\n",
        "\n",
        "\n",
        "```\n",
        "f\"String\"\n",
        "```\n",
        "\n",
        "\n",
        "\n"
      ],
      "metadata": {
        "id": "UTmTMpa3QU3d"
      }
    },
    {
      "cell_type": "markdown",
      "source": [
        "\n",
        "In some situations, you’ll want to use a variable’s value inside a string. For example, you might want to use two variables to represent a first name and a last name, respectively, and then combine those values to display someone’s full name:"
      ],
      "metadata": {
        "id": "IkV7MhlqR8Hd"
      }
    },
    {
      "cell_type": "code",
      "source": [
        "# TODO run this cell.\n",
        "first_name = \"Anar\"\n",
        "last_name = \"lovelace\"\n",
        "full_name = first_name + ' ' + last_name\n",
        "text = f'{first_name} welcome to the website.'\n",
        "fullName = f\"Ms {first_name} is the last child of the {last_name} family.\"   # ❶\n",
        "print(text)"
      ],
      "metadata": {
        "id": "XpX1-nOzSAUq",
        "colab": {
          "base_uri": "https://localhost:8080/"
        },
        "outputId": "90ea3fc0-9b74-4ef9-bcbe-4191f20a00db"
      },
      "execution_count": null,
      "outputs": [
        {
          "output_type": "stream",
          "name": "stdout",
          "text": [
            "Anar welcome to the website.\n"
          ]
        }
      ]
    },
    {
      "cell_type": "code",
      "source": [
        "name = 'Jules'\n",
        "city = 'suburbs'\n",
        "has = 'addiction'\n",
        "story = f'{name} was a man. He was Born in {city}. He had a {has}.'\n",
        "print(story)"
      ],
      "metadata": {
        "colab": {
          "base_uri": "https://localhost:8080/"
        },
        "id": "Ol4xF2sK6Jxn",
        "outputId": "6a83c761-d655-48e1-f2db-3d8882a0b1fc"
      },
      "execution_count": null,
      "outputs": [
        {
          "output_type": "stream",
          "name": "stdout",
          "text": [
            "Jules was a man. He was Born in suburbs. He had a addiction.\n"
          ]
        }
      ]
    },
    {
      "cell_type": "markdown",
      "source": [
        "\n",
        "To insert a variable’s value into a string, place the letter f immediately before the opening quotation mark ❶. Put braces around the name or names of any variable you want to use inside the string. Python will replace each variable with its value when the string is displayed.\n",
        "\n",
        "These strings are called f-strings. The f is for format, because Python formats the string by replacing the name of any variable in braces with its value."
      ],
      "metadata": {
        "id": "zEmfLpFnSYnC"
      }
    },
    {
      "cell_type": "markdown",
      "source": [
        "You can do a lot with f-strings. For example, you can use f-strings to compose complete messages using the information associated with a variable, as shown here:"
      ],
      "metadata": {
        "id": "yey8E5z1S3c6"
      }
    },
    {
      "cell_type": "code",
      "source": [
        "first_name = \"ada\"\n",
        "last_name = \"lovelace\"\n",
        "full_name = f\"{first_name} {last_name}\"  # ❶ \n",
        "print(full_name)"
      ],
      "metadata": {
        "id": "Lnu-vsyLTALx"
      },
      "execution_count": null,
      "outputs": []
    },
    {
      "cell_type": "markdown",
      "source": [
        "\n",
        "You can also use f-strings to compose a message, and then assign the entire message to a variable:"
      ],
      "metadata": {
        "id": "NmMbsfmdTmbC"
      }
    },
    {
      "cell_type": "markdown",
      "source": [
        "\n",
        "The full name is used in a sentence that greets the user ❶, and the `title()` method changes the name to title case. This code returns a simple but nicely formatted greeting:\n",
        "\n",
        "`Hello, Ada Lovelace!`"
      ],
      "metadata": {
        "id": "C1Y9eDJdTDld"
      }
    },
    {
      "cell_type": "code",
      "source": [
        "first_name = \"ada\"\n",
        "last_name = \"lovelace\"\n",
        "full_name = f\"{first_name} {last_name}\"\n",
        "message = f\"Hello, {full_name.title()}!\"   # ❶ \n",
        "print(message)    # ❷ "
      ],
      "metadata": {
        "id": "rnIkJ1aIToPc"
      },
      "execution_count": null,
      "outputs": []
    },
    {
      "cell_type": "markdown",
      "source": [
        "\n",
        "This code displays the message Hello, Ada Lovelace! as well, but by assigning the message to a variable ❶ we make the final print() call much simpler ❷."
      ],
      "metadata": {
        "id": "mkmyL9hITz5x"
      }
    },
    {
      "cell_type": "markdown",
      "source": [
        "## Adding Whitespace to Strings with Tabs or Newlines"
      ],
      "metadata": {
        "id": "srw_DLiMU4Jq"
      }
    },
    {
      "cell_type": "markdown",
      "source": [
        "In programming, whitespace refers to any nonprinting characters, such as spaces, tabs, and end-of-line symbols. You can use whitespace to organize your output so it’s easier for users to read.\n",
        "To add a **tab** to your text, use the character combination `\\t`:"
      ],
      "metadata": {
        "id": "-dZiAG8bXba6"
      }
    },
    {
      "cell_type": "code",
      "source": [
        "print(\"Python\")\n",
        "print(\"\\tPython\")"
      ],
      "metadata": {
        "id": "FcreLfUnXjmW",
        "colab": {
          "base_uri": "https://localhost:8080/"
        },
        "outputId": "0f755ced-804a-4208-ad8c-c8a08087d22a"
      },
      "execution_count": null,
      "outputs": [
        {
          "output_type": "stream",
          "name": "stdout",
          "text": [
            "Python\n",
            "\tPython\n"
          ]
        }
      ]
    },
    {
      "cell_type": "markdown",
      "source": [
        "\n",
        "To add a **newline** in a string, use the character combination `\\n`:"
      ],
      "metadata": {
        "id": "TGdcCH1LX4EK"
      }
    },
    {
      "cell_type": "code",
      "source": [
        "print(\"Languages:\\nPython\\n\\tC\\nJavaScript\")"
      ],
      "metadata": {
        "id": "CE-Lv5quX6nP",
        "colab": {
          "base_uri": "https://localhost:8080/"
        },
        "outputId": "83a7b2d6-98db-406d-bceb-34dee9287d77"
      },
      "execution_count": null,
      "outputs": [
        {
          "output_type": "stream",
          "name": "stdout",
          "text": [
            "Languages:\n",
            "Python\t\n",
            "\tC\n",
            "JavaScript\n"
          ]
        }
      ]
    },
    {
      "cell_type": "markdown",
      "source": [
        "\n",
        "You can also combine tabs and newlines in a single string. The string \"`\\n\\t`\" tells Python to move to a new line, and start the next line with a tab. The following example shows how you can use a one-line string to generate four lines of output:**bold text**"
      ],
      "metadata": {
        "id": "QveR86qKYFdG"
      }
    },
    {
      "cell_type": "code",
      "source": [
        "print(\"Languages:\\n\\tPython\\n\\tC\\n\\tJavaScript\")"
      ],
      "metadata": {
        "id": "OwSfzPmTYHze"
      },
      "execution_count": null,
      "outputs": []
    },
    {
      "cell_type": "markdown",
      "source": [
        "\n",
        "**Newlines** and **tabs** will be very useful in the next two chapters, when you start to produce many lines of output from just a few lines of code."
      ],
      "metadata": {
        "id": "zSRCWY5FYdzY"
      }
    },
    {
      "cell_type": "markdown",
      "source": [
        "## Stripping Whitespace"
      ],
      "metadata": {
        "id": "1VJMH0N9Yja7"
      }
    },
    {
      "cell_type": "markdown",
      "source": [
        "\n",
        "Extra whitespace can be confusing in your programs. To programmers, 'python' and 'python ' look pretty much the same. But to a program, they are two different strings."
      ],
      "metadata": {
        "id": "Mb91BRnSY6vP"
      }
    },
    {
      "cell_type": "markdown",
      "source": [
        "\n",
        "It’s important to think about whitespace, because often you’ll want to compare two strings to determine whether they are the same. For example, one important instance might involve checking people’s usernames when they log in to a website. Extra whitespace can be confusing in much simpler situations as well. Fortunately, Python makes it easy to eliminate extra whitespace from data that people enter."
      ],
      "metadata": {
        "id": "WuO4nXinZA4H"
      }
    },
    {
      "cell_type": "markdown",
      "source": [
        "\n",
        "Python can look for extra whitespace on the right and left sides of a string. To ensure that no whitespace exists at the right side of a string, use the `rstrip()` method:"
      ],
      "metadata": {
        "id": "_57qrJlkaAft"
      }
    },
    {
      "cell_type": "code",
      "source": [
        "favorite_language = 'python   '  # ❶"
      ],
      "metadata": {
        "id": "-j9Bj_cLaCol"
      },
      "execution_count": null,
      "outputs": []
    },
    {
      "cell_type": "code",
      "source": [
        "favorite_language  # ❷"
      ],
      "metadata": {
        "id": "CpSEkR3WadWF",
        "colab": {
          "base_uri": "https://localhost:8080/",
          "height": 36
        },
        "outputId": "ae810e90-db21-4c9d-b002-753bc366a441"
      },
      "execution_count": null,
      "outputs": [
        {
          "output_type": "execute_result",
          "data": {
            "text/plain": [
              "'python   '"
            ],
            "application/vnd.google.colaboratory.intrinsic+json": {
              "type": "string"
            }
          },
          "metadata": {},
          "execution_count": 11
        }
      ]
    },
    {
      "cell_type": "code",
      "source": [
        "favorite_language.rstrip()   # ❸"
      ],
      "metadata": {
        "id": "hlOktWMDaVGw",
        "colab": {
          "base_uri": "https://localhost:8080/",
          "height": 36
        },
        "outputId": "d443acc4-7d40-445a-d915-8a101200859e"
      },
      "execution_count": null,
      "outputs": [
        {
          "output_type": "execute_result",
          "data": {
            "text/plain": [
              "'python'"
            ],
            "application/vnd.google.colaboratory.intrinsic+json": {
              "type": "string"
            }
          },
          "metadata": {},
          "execution_count": 12
        }
      ]
    },
    {
      "cell_type": "code",
      "source": [
        "favorite_language   # ❹"
      ],
      "metadata": {
        "id": "XbcLpvLJaaUQ",
        "colab": {
          "base_uri": "https://localhost:8080/",
          "height": 36
        },
        "outputId": "4304ba94-3404-4a81-8653-a8d91056c63b"
      },
      "execution_count": null,
      "outputs": [
        {
          "output_type": "execute_result",
          "data": {
            "text/plain": [
              "'python   '"
            ],
            "application/vnd.google.colaboratory.intrinsic+json": {
              "type": "string"
            }
          },
          "metadata": {},
          "execution_count": 13
        }
      ]
    },
    {
      "cell_type": "code",
      "source": [
        "#@title\n",
        "# Assignment Statement\n",
        "\n",
        "favorite_language = favorite_language.rstrip()"
      ],
      "metadata": {
        "id": "AAOW9k-_jyjN"
      },
      "execution_count": null,
      "outputs": []
    },
    {
      "cell_type": "code",
      "source": [
        "firstName = \"anar\"\n",
        "firstName.title()\n",
        "firstName = firstName.title()\n",
        "print(firstName)"
      ],
      "metadata": {
        "colab": {
          "base_uri": "https://localhost:8080/"
        },
        "id": "cgt82pZbmV0B",
        "outputId": "dc18f676-9a85-41ca-ddbd-bce0c5d7d1b3"
      },
      "execution_count": null,
      "outputs": [
        {
          "output_type": "stream",
          "name": "stdout",
          "text": [
            "Anar\n"
          ]
        }
      ]
    },
    {
      "cell_type": "markdown",
      "source": [
        "The value associated with `favorite_language` ❶ contains extra whitespace at the end of the string. When you ask Python for this value in a terminal session, you can see the space at the end of the value ❷. When the `rstrip()` method acts on the variable `favorite_language` ❸, this extra space is removed. However, it is only removed temporarily. If you ask for the value of `favorite_language` again, the string looks the same as when it was entered, including the extra whitespace ❹.\n",
        "\n",
        "To remove the whitespace from the string permanently, you have to associate the stripped value with the variable name:"
      ],
      "metadata": {
        "id": "qfhHwDSTa_J2"
      }
    },
    {
      "cell_type": "code",
      "source": [
        "favorite_language = 'python '\n",
        "favorite_language = favorite_language.rstrip()   # ❶\n",
        "favorite_language"
      ],
      "metadata": {
        "id": "kp4Nt0P0bVrz"
      },
      "execution_count": null,
      "outputs": []
    },
    {
      "cell_type": "markdown",
      "source": [
        "\n",
        "To remove the whitespace from the string, you strip the whitespace from the right side of the string and then associate this new value with the original variable ❶. Changing a variable’s value is done often in programming. This is how a variable’s value can be updated as a program is executed or in response to user input."
      ],
      "metadata": {
        "id": "HaeFVzRjbp0U"
      }
    },
    {
      "cell_type": "markdown",
      "source": [
        "\n",
        "You can also strip whitespace from the left side of a string using the `lstrip()` method, or from both sides at once using `strip()`:"
      ],
      "metadata": {
        "id": "Me5nkDJvbwTU"
      }
    },
    {
      "cell_type": "code",
      "source": [
        "favorite_language = ' python '   # ❶ \n",
        "favorite_language.rstrip()   # ❷\n",
        "favorite_language.lstrip()   # ❸\n",
        "favorite_language.strip()   # ❹"
      ],
      "metadata": {
        "id": "OyIOQZ9sb3iD"
      },
      "execution_count": null,
      "outputs": []
    },
    {
      "cell_type": "markdown",
      "source": [
        "\n",
        "In this example, we start with a value that has whitespace at the beginning and the end ❶. We then remove the extra space from the right side ❷, from the left side ❸, and from both sides ❹. Experimenting with these stripping functions can help you become familiar with manipulating strings. In the real world, these stripping functions are used most often to clean up user input before it’s stored in a program."
      ],
      "metadata": {
        "id": "ry_yt7v2cHSG"
      }
    },
    {
      "cell_type": "markdown",
      "source": [
        "## Removing Prefixes"
      ],
      "metadata": {
        "id": "frqI7ca7cgHc"
      }
    },
    {
      "cell_type": "markdown",
      "source": [
        "\n",
        "When working with strings, another common task is to remove a prefix. Consider a URL with the common prefix `https://`. We want to remove this prefix, so we can focus on just the part of the URL that users need to enter into an address bar. Here’s how to do that:"
      ],
      "metadata": {
        "id": "ENFLzQyjcs7M"
      }
    },
    {
      "cell_type": "code",
      "source": [
        "nostarch_url = 'https://nostarch.com'\n",
        "nostarch_url = 'https://nostarch.com'.removeprefix('https://')"
      ],
      "metadata": {
        "id": "GFrLavCec2B7"
      },
      "execution_count": null,
      "outputs": []
    },
    {
      "cell_type": "markdown",
      "source": [
        "Enter the name of the variable followed by a dot, and then the method `removeprefix()`. Inside the parentheses, enter the prefix you want to remove from the original string.\n",
        "Like the methods for removing whitespace, `removeprefix()` leaves the original string unchanged. If you want to keep the new value with the prefix removed, either reassign it to the original variable or assign it to a new variable:"
      ],
      "metadata": {
        "id": "dqTCaADJeYVB"
      }
    },
    {
      "cell_type": "code",
      "source": [
        " simple_url = nostarch_url.removeprefix('https://')"
      ],
      "metadata": {
        "id": "8D2ooGylefm0"
      },
      "execution_count": null,
      "outputs": []
    },
    {
      "cell_type": "markdown",
      "source": [
        "\n",
        "When you see a URL in an address bar and the https://  isn’t shown, the browser is probably using a method like `removeprefix()` behind the scenes."
      ],
      "metadata": {
        "id": "66brtoPgeqYd"
      }
    },
    {
      "cell_type": "markdown",
      "source": [
        "## Avoiding Syntax Errors with Strings"
      ],
      "metadata": {
        "id": "i_IA-ZPje3Um"
      }
    },
    {
      "cell_type": "markdown",
      "source": [
        "\n",
        "One kind of error that you might see with some regularity is a syntax error. A syntax error occurs when Python doesn’t recognize a section of your program as valid Python code. For example, if you use an apostrophe within single quotes, you’ll produce an error. This happens because Python interprets everything between the first single quote and the apostrophe as a string. It then tries to interpret the rest of the text as Python code, which causes errors.\n",
        "Here’s how to use single and double quotes correctly. Run the cell below:"
      ],
      "metadata": {
        "id": "Fn53zXPIe7m1"
      }
    },
    {
      "cell_type": "code",
      "source": [
        "message = \"One of Python's strengths is its diverse community.\"\n",
        "print(message)"
      ],
      "metadata": {
        "colab": {
          "base_uri": "https://localhost:8080/"
        },
        "id": "7DwqqGDIfOGH",
        "outputId": "6c7b1ed3-11b4-4182-81f8-4efe5f39e129"
      },
      "execution_count": null,
      "outputs": [
        {
          "output_type": "stream",
          "name": "stdout",
          "text": [
            "One of Python's strengths is its diverse community.\n"
          ]
        }
      ]
    },
    {
      "cell_type": "markdown",
      "source": [
        "\n",
        "The apostrophe appears inside a set of double quotes, so the Python interpreter has no trouble reading the string correctly:\n",
        "\n",
        "`One of Python's strengths is its diverse community.`"
      ],
      "metadata": {
        "id": "yIGf4DElfsBW"
      }
    },
    {
      "cell_type": "markdown",
      "source": [
        "\n",
        "However, if you use single quotes, Python can’t identify where the string should end:"
      ],
      "metadata": {
        "id": "xAP0YOoOgAdm"
      }
    },
    {
      "cell_type": "code",
      "source": [
        "# Run this cell and then fix it.\n",
        "message = 'One of Python's strengths is its diverse community.'\n",
        "print(message)"
      ],
      "metadata": {
        "id": "iaZlnbWEgB32"
      },
      "execution_count": null,
      "outputs": []
    },
    {
      "cell_type": "markdown",
      "source": [
        "\n",
        "You’ll see the following output:\n",
        "```\n",
        "  File \"apostrophe.py\", line 1\n",
        "    message = 'One of Python's strengths is its diverse community.'\n",
        "                                                                ❶ ^\n",
        "SyntaxError: unterminated string literal (detected at line 1)\n",
        "\n",
        "```\n",
        "\n",
        "In the output you can see that the error occurs right after the final single quote ❶. This syntax error indicates that the interpreter doesn’t recognize something in the code as valid Python code, and it thinks the problem might be a string that’s not quoted correctly. Errors can come from a variety of sources, and I’ll point out some common ones as they arise. You might see syntax errors often as you learn to write proper Python code. Syntax errors are also the least specific kind of error, so they can be difficult and frustrating to identify and correct.\n"
      ],
      "metadata": {
        "id": "7tbzC9z6gXRY"
      }
    },
    {
      "cell_type": "markdown",
      "source": [
        "Note\n",
        "\n",
        "\n",
        "> Your editor’s syntax highlighting feature should help you spot some syntax errors quickly as you write your programs. If you see Python code highlighted as if it’s English or English highlighted as if it’s Python code, you probably have a mismatched quotation mark somewhere in your file.\n",
        "\n"
      ],
      "metadata": {
        "id": "hSxImidWhAuA"
      }
    },
    {
      "cell_type": "markdown",
      "source": [
        "# Number"
      ],
      "metadata": {
        "id": "NEb1DVV-U-Jk"
      }
    },
    {
      "cell_type": "markdown",
      "source": [
        "\n",
        "Numbers are used quite often in programming to keep score in games, represent data in visualizations, store information in web applications, and so on. Python treats numbers in several different ways, depending on how they’re being used. Let’s first look at how Python manages integers, because they’re the simplest to work with."
      ],
      "metadata": {
        "id": "Zuh5NVQFhWgN"
      }
    },
    {
      "cell_type": "markdown",
      "source": [
        "## Integers"
      ],
      "metadata": {
        "id": "ogl62h1jhtNj"
      }
    },
    {
      "cell_type": "markdown",
      "source": [
        "\n",
        "You can add (+), subtract (-), multiply (*), and divide (/) integers in Python.\n",
        "\n",
        "```\n",
        ">>> 2 + 3\n",
        "5\n",
        ">>> 3 - 2\n",
        "1\n",
        ">>> 2 * 3\n",
        "6\n",
        ">>> 3 / 2\n",
        "1.5\n",
        "```"
      ],
      "metadata": {
        "id": "0NVBW4XKhjzj"
      }
    },
    {
      "cell_type": "markdown",
      "source": [
        "## Floats"
      ],
      "metadata": {
        "id": "AkRJr9psjKRb"
      }
    },
    {
      "cell_type": "markdown",
      "source": [
        "\n",
        "Python calls any number with a decimal point a float. This term is used in most programming languages, and it refers to the fact that a decimal point can appear at any position in a number. Every programming language must be carefully designed to properly manage decimal numbers so numbers behave appropriately, no matter where the decimal point appears.\n",
        "\n",
        "```\n",
        ">>> 0.1 + 0.1\n",
        "0.2\n",
        ">>> 0.2 + 0.2\n",
        "0.4\n",
        ">>> 2 * 0.1\n",
        "0.2\n",
        ">>> 2 * 0.2\n",
        "0.4\n",
        "```"
      ],
      "metadata": {
        "id": "iRlmQNVFjRyT"
      }
    },
    {
      "cell_type": "markdown",
      "source": [
        "\n",
        "However, be aware that you can sometimes get an arbitrary number of decimal places in your answer:\n",
        "\n",
        "```\n",
        ">>> 0.2 + 0.1\n",
        "0.30000000000000004\n",
        ">>> 3 * 0.1\n",
        "0.30000000000000004\n",
        "```"
      ],
      "metadata": {
        "id": "A70MP3R0q_on"
      }
    },
    {
      "cell_type": "markdown",
      "source": [],
      "metadata": {
        "id": "a5thcGNGLNMD"
      }
    },
    {
      "cell_type": "code",
      "source": [
        "0.2 + 0.1"
      ],
      "metadata": {
        "colab": {
          "base_uri": "https://localhost:8080/"
        },
        "id": "A8WIhlQfjx3h",
        "outputId": "052aa4c8-c86a-4d4e-9303-4ea01adbe7ce"
      },
      "execution_count": null,
      "outputs": [
        {
          "output_type": "execute_result",
          "data": {
            "text/plain": [
              "0.30000000000000004"
            ]
          },
          "metadata": {},
          "execution_count": 2
        }
      ]
    },
    {
      "cell_type": "markdown",
      "source": [
        "## Integers and Floats"
      ],
      "metadata": {
        "id": "v_MooigWrS2e"
      }
    },
    {
      "cell_type": "markdown",
      "source": [
        "\n",
        "When you divide any two numbers, even if they are integers that result in a whole number, you’ll always get a float:\n",
        "```\n",
        ">>> 4/2\n",
        "2.0\n",
        "If you mix an integer and a float in any other operation, you’ll get a float as well:\n",
        ">>> 1 + 2.0\n",
        "3.0\n",
        ">>> 2 * 3.0\n",
        "6.0\n",
        ">>> 3.0 ** 2\n",
        "9.0\n",
        "```\n",
        "Python defaults to a float in any operation that uses a float, even if the output is a whole number."
      ],
      "metadata": {
        "id": "Dwu6ZwvSrdLe"
      }
    },
    {
      "cell_type": "markdown",
      "source": [
        "## Underscores in Numbers\n"
      ],
      "metadata": {
        "id": "dqnYyN5Vrnov"
      }
    },
    {
      "cell_type": "markdown",
      "source": [
        "When you’re writing long numbers, you can group digits using underscores to make large numbers more readable:\n",
        "```\n",
        ">>> universe_age = 14_000_000_000\n",
        "\n",
        "```\n",
        " When you print a number that was defined using underscores, Python prints only the digits:\n",
        " ```\n",
        ">>> print(universe_age)\n",
        "14000000000\n",
        " ```"
      ],
      "metadata": {
        "id": "5H3J2Tv8rqj-"
      }
    },
    {
      "cell_type": "markdown",
      "source": [
        "# Multiple Assignment"
      ],
      "metadata": {
        "id": "iOvcFa83sL_a"
      }
    },
    {
      "cell_type": "markdown",
      "source": [
        "\n",
        "You can assign values to more than one variable using just a single line of code. This can help shorten your programs and make them easier to read; you’ll use this technique most often when initializing a set of numbers.\n",
        "For example, here’s how you can initialize the variables x, y, and z to zero:\n",
        "\n",
        "---\n",
        "\n",
        "```\n",
        ">>> x, y, z = 0, 0, 0\n",
        "```\n",
        "\n",
        "You need to separate the variable names with commas, and do the same with the values, and Python will assign each value to its respective variable. As long as the number of values matches the number of variables, Python will match them up correctly."
      ],
      "metadata": {
        "id": "34lZqXAVsPBN"
      }
    },
    {
      "cell_type": "code",
      "source": [
        "def functionName(a, b):\n",
        "  firstName, lastName = a, b\n",
        "  fullName = firstName + \" \" + lastName\n",
        "  print(fullName)\n",
        "\n",
        "functionName('Taha', 'Taheri')"
      ],
      "metadata": {
        "colab": {
          "base_uri": "https://localhost:8080/"
        },
        "id": "IHUVEpfqKWP2",
        "outputId": "d03f12c9-d9fc-4624-f14c-822c8af10458"
      },
      "execution_count": null,
      "outputs": [
        {
          "output_type": "stream",
          "name": "stdout",
          "text": [
            "Taha Taheri\n"
          ]
        }
      ]
    },
    {
      "cell_type": "markdown",
      "source": [
        "# Constants"
      ],
      "metadata": {
        "id": "1yzvkzUesqQP"
      }
    },
    {
      "cell_type": "markdown",
      "source": [
        "\n",
        "A constant is a variable whose value stays the same throughout the life of a program. Python doesn’t have built-in constant types, but Python programmers use all capital letters to indicate a variable should be treated as a constant and never be changed:"
      ],
      "metadata": {
        "id": "48eEYaOxs8xy"
      }
    },
    {
      "cell_type": "code",
      "source": [
        "MAX_CONNECTIONS = 5000\n",
        "LIGHT_SPEED = 299_792_458\n",
        "print(LIGHT_SPEED)"
      ],
      "metadata": {
        "id": "WanX7NDTtCQO"
      },
      "execution_count": null,
      "outputs": []
    },
    {
      "cell_type": "markdown",
      "source": [
        "# Try It Yourself"
      ],
      "metadata": {
        "id": "9XIt_zBEtsMD"
      }
    },
    {
      "cell_type": "markdown",
      "source": [
        "2-9. Number Eight: Write addition, subtraction, multiplication, and division operations that each result in the number `8`. Be sure to enclose your operations in `print()` calls to see the results. You should create four lines that look like this:\n",
        "\n",
        "`print(5+3)`\n",
        "\n",
        "Your output should be four lines, with the number `8` appearing once on each line."
      ],
      "metadata": {
        "id": "kwzAIRc6t0X5"
      }
    },
    {
      "cell_type": "code",
      "source": [
        "# Addition +\n",
        "result = 4 + 4\n",
        "result = f'The result is {result}.'\n",
        "print(result)\n",
        "# Result is "
      ],
      "metadata": {
        "colab": {
          "base_uri": "https://localhost:8080/"
        },
        "id": "uOrcMBYcztZl",
        "outputId": "b281b110-8f5e-4ee5-87fd-82b265d38ce4"
      },
      "execution_count": null,
      "outputs": [
        {
          "output_type": "stream",
          "name": "stdout",
          "text": [
            "The result is 8.\n"
          ]
        }
      ]
    },
    {
      "cell_type": "code",
      "source": [
        "# subtration -\n",
        "result = 16 - 8\n",
        "result = f'The result is {result}.'\n",
        "print(result)"
      ],
      "metadata": {
        "colab": {
          "base_uri": "https://localhost:8080/"
        },
        "id": "W-OBU_9L0gfd",
        "outputId": "65896193-2a03-4810-b9d5-1aca11302735"
      },
      "execution_count": null,
      "outputs": [
        {
          "output_type": "stream",
          "name": "stdout",
          "text": [
            "The result is 8.\n"
          ]
        }
      ]
    },
    {
      "cell_type": "code",
      "source": [
        "# multiplication *\n",
        "result = 2 * 4\n",
        "result = f'The result is {result}.'\n",
        "print(result)"
      ],
      "metadata": {
        "colab": {
          "base_uri": "https://localhost:8080/"
        },
        "id": "4keQBFHE0hFW",
        "outputId": "216465f3-a973-4e2d-b6a5-ab1e2f4b55c6"
      },
      "execution_count": null,
      "outputs": [
        {
          "output_type": "stream",
          "name": "stdout",
          "text": [
            "The result is 8.\n"
          ]
        }
      ]
    },
    {
      "cell_type": "code",
      "source": [
        "# /\n",
        "result = 16/2\n",
        "result = f'The result is {result}.'\n",
        "print(result)"
      ],
      "metadata": {
        "colab": {
          "base_uri": "https://localhost:8080/"
        },
        "id": "F6nxXjm40h-r",
        "outputId": "8630ba45-1712-4527-ce71-adc47fb8c225"
      },
      "execution_count": null,
      "outputs": [
        {
          "output_type": "stream",
          "name": "stdout",
          "text": [
            "The result is 8.0.\n"
          ]
        }
      ]
    },
    {
      "cell_type": "markdown",
      "source": [
        "# Comments"
      ],
      "metadata": {
        "id": "qYpHVad4uNAi"
      }
    },
    {
      "cell_type": "markdown",
      "source": [
        "Comments are an extremely useful feature in most programming languages. Everything you’ve written in your programs so far is Python code. As your programs become longer and more complicated, you should add notes within your programs that describe your overall approach to the problem you’re solving. A comment allows you to write notes in your spoken language, within your programs."
      ],
      "metadata": {
        "id": "JPdpND2_ylkP"
      }
    },
    {
      "cell_type": "code",
      "source": [
        "import this"
      ],
      "metadata": {
        "id": "oh_kQHXNue8-"
      },
      "execution_count": null,
      "outputs": []
    },
    {
      "cell_type": "markdown",
      "source": [
        "# Lists\n"
      ],
      "metadata": {
        "id": "Cz-SmyJmxBWY"
      }
    },
    {
      "cell_type": "markdown",
      "source": [
        "Lists allow you to store sets of information in one place, whether you have just a few items or millions of items. Lists are one of Python’s most powerful features readily accessible to new programmers, and they tie together many important concepts in programming."
      ],
      "metadata": {
        "id": "DP9deFbhxFlH"
      }
    },
    {
      "cell_type": "markdown",
      "source": [
        "## What Is a List?"
      ],
      "metadata": {
        "id": "FGm9s4g9xQrO"
      }
    },
    {
      "cell_type": "markdown",
      "source": [
        "\n",
        "A list is a collection of items in a particular order. You can make a list that includes the letters of the alphabet, the digits from 0 to 9, or the names of all the people in your family. You can put anything you want into a list, and the items in your list don’t have to be related in any particular way. Because a list usually contains more than one element, it’s a good idea to make the name of your list plural, such as `letters`, `digits`, or `names`."
      ],
      "metadata": {
        "id": "k4mxNEEyxSVO"
      }
    },
    {
      "cell_type": "markdown",
      "source": [
        "\n",
        "In Python, square brackets ([ ]) indicate a list, and individual elements in the list are separated by commas. Here’s a simple example of a list that contains a few kinds of bicycles:"
      ],
      "metadata": {
        "id": "rh37szy3xi09"
      }
    },
    {
      "cell_type": "code",
      "source": [
        "bicycles = ['trek', 'cannondale', 'redline', 'specialized', 23, ' ', 2.3 , True]\n",
        "print(bicycles)"
      ],
      "metadata": {
        "id": "V1bMNkkPxnpU",
        "colab": {
          "base_uri": "https://localhost:8080/"
        },
        "outputId": "f023de4f-0ede-4824-dc17-c0db4386d21d"
      },
      "execution_count": null,
      "outputs": [
        {
          "output_type": "stream",
          "name": "stdout",
          "text": [
            "['trek', 'cannondale', 'redline', 'specialized', 23, ' ', 2.3, True]\n"
          ]
        }
      ]
    },
    {
      "cell_type": "markdown",
      "source": [
        "\n",
        "If you ask Python to print a list, Python returns its representation of the list, including the square brackets:\n",
        "\n",
        "---\n",
        "\n",
        "```\n",
        "['trek', 'cannondale', 'redline', 'specialized']\n",
        "```"
      ],
      "metadata": {
        "id": "hkubhbKwxtay"
      }
    },
    {
      "cell_type": "markdown",
      "source": [
        "\n",
        "Because this isn’t the output you want your users to see, let’s learn how to access the individual items in a list."
      ],
      "metadata": {
        "id": "FYPoTKD6x2n-"
      }
    },
    {
      "cell_type": "code",
      "source": [
        "empty = ['', \" \"]\n",
        "print(empty)\n",
        "bicycles[1]\n",
        "bicycles[2]\n",
        "myBice = bicycles[1]\n",
        "myString = 'whatever'\n",
        "myString = myString.title()\n",
        "print(myBice)"
      ],
      "metadata": {
        "colab": {
          "base_uri": "https://localhost:8080/"
        },
        "id": "L7UE0RBy_JN3",
        "outputId": "f40e17f7-558c-4853-96b8-40abedee7d50"
      },
      "execution_count": null,
      "outputs": [
        {
          "output_type": "stream",
          "name": "stdout",
          "text": [
            "['', ' ']\n",
            "cannondale\n"
          ]
        }
      ]
    },
    {
      "cell_type": "markdown",
      "source": [
        "## Accessing Elements in a List"
      ],
      "metadata": {
        "id": "RI6AWJFwx4we"
      }
    },
    {
      "cell_type": "markdown",
      "source": [
        "\n",
        "Lists are ordered collections, so you can access any element in a list by telling Python the position, or index, of the item desired. To access an element in a list, write the name of the list followed by the index of the item enclosed in square brackets.\n",
        "For example, let’s pull out the first bicycle in the list `bicycles`:"
      ],
      "metadata": {
        "id": "TnZGONxbx_D6"
      }
    },
    {
      "cell_type": "code",
      "source": [
        "bicycles = ['trek', 'cannondale', 'redline', 'specialized']\n",
        "print(bicycles[0])"
      ],
      "metadata": {
        "id": "3_X3FinbyD_q"
      },
      "execution_count": null,
      "outputs": []
    },
    {
      "cell_type": "markdown",
      "source": [
        "\n",
        "When we ask for a single item from a list, Python returns just that element without square brackets:\n",
        "\n",
        "\n",
        "---\n",
        "\n",
        "\n",
        "`trek`"
      ],
      "metadata": {
        "id": "qlc4lvlqyH4u"
      }
    },
    {
      "cell_type": "markdown",
      "source": [
        "\n",
        "This is the result you want your users to see: clean, neatly formatted output.\n",
        "You can also use the string methods from Chapter 2 on any element in this list. For example, you can format the element 'trek' to look more presentable by using the `title()` method:\n",
        "\n",
        "```\n",
        "bicycles = ['trek', 'cannondale', 'redline', 'specialized']\n",
        "print(bicycles[0].title())\n",
        "```"
      ],
      "metadata": {
        "id": "x2e2_LVBy8he"
      }
    },
    {
      "cell_type": "code",
      "source": [
        "bicycles = ['trek', 'cannondale', 'redline', 'specialized']\n",
        "print(bicycles[0].title())"
      ],
      "metadata": {
        "id": "f-6ZlXJty-Ws"
      },
      "execution_count": null,
      "outputs": []
    },
    {
      "cell_type": "markdown",
      "source": [
        "# Try It Yourself 7-8"
      ],
      "metadata": {
        "id": "vdzUZ7osRFNy"
      }
    },
    {
      "cell_type": "markdown",
      "source": [
        "## Sandwich-Order"
      ],
      "metadata": {
        "id": "eTiaQ0bDRa93"
      }
    },
    {
      "cell_type": "markdown",
      "source": [
        "1. Make a list of sandwiches\n",
        "2. Make an empty list\n",
        "3. Loop through the sandwiches list and build a text for each sandwich"
      ],
      "metadata": {
        "id": "WaAb0s67RpN0"
      }
    },
    {
      "cell_type": "code",
      "source": [
        "sandwiche_orders = ['bandari', 'meat', 'chicken',\n",
        "              'hot dog', 'burger', 'cheese burger',\n",
        "              'Mushroom Burger']\n",
        "\n",
        "finished_orders = []\n",
        "number = 0\n",
        "for item in sandwiche_orders:\n",
        "  text = f\"I made your {item}.\"\n",
        "  finished_orders.append(text)\n",
        "for item in finished_orders:\n",
        "  print(item)  \n"
      ],
      "metadata": {
        "id": "yTqQcFCcR4Ec",
        "colab": {
          "base_uri": "https://localhost:8080/"
        },
        "outputId": "63bcd7cf-9c6d-4cee-a4e1-27c3aec2bc59"
      },
      "execution_count": null,
      "outputs": [
        {
          "output_type": "stream",
          "name": "stdout",
          "text": [
            "I made your bandari.\n",
            "I made your meat.\n",
            "I made your chicken.\n",
            "I made your hot dog.\n",
            "I made your burger.\n",
            "I made your cheese burger.\n",
            "I made your Mushroom Burger.\n"
          ]
        }
      ]
    },
    {
      "cell_type": "markdown",
      "source": [
        "# Function"
      ],
      "metadata": {
        "id": "KibWGkOLVOfj"
      }
    },
    {
      "cell_type": "markdown",
      "source": [
        ": Functions are named blocks of code designed to do one specific job."
      ],
      "metadata": {
        "id": "m-A1PR0RVUeA"
      }
    },
    {
      "cell_type": "code",
      "source": [
        "def greeting(name):\n",
        "  print(f\"Hello {name}\")\n",
        "greeting('Behzad')"
      ],
      "metadata": {
        "id": "cEQrhwdmWKST",
        "colab": {
          "base_uri": "https://localhost:8080/"
        },
        "outputId": "255cf3c4-163b-4bbb-91ba-eb0c25630c93"
      },
      "execution_count": null,
      "outputs": [
        {
          "output_type": "stream",
          "name": "stdout",
          "text": [
            "Hello Behzad\n"
          ]
        }
      ]
    },
    {
      "cell_type": "markdown",
      "source": [
        "## Try It Yourself 8-1"
      ],
      "metadata": {
        "id": "DuvenqxjbHqq"
      }
    },
    {
      "cell_type": "code",
      "source": [
        "# Ilia"
      ],
      "metadata": {
        "id": "eauKlJ0HYMxe"
      },
      "execution_count": null,
      "outputs": []
    },
    {
      "cell_type": "code",
      "source": [
        "# Elika"
      ],
      "metadata": {
        "id": "amE6nl3mYO2z"
      },
      "execution_count": null,
      "outputs": []
    },
    {
      "cell_type": "code",
      "source": [
        "# Karn \n",
        "def dispiay_message():\n",
        "  text = 'ما داریم فانکشن یاد میگیریم'\n",
        "  print(text)\n",
        "  \n",
        "dispiay_message()\n",
        "\n"
      ],
      "metadata": {
        "id": "K1FZFRGiYQf6",
        "colab": {
          "base_uri": "https://localhost:8080/"
        },
        "outputId": "a4fec05c-7afe-4d4f-fb32-4baddbd00730"
      },
      "execution_count": null,
      "outputs": [
        {
          "output_type": "stream",
          "name": "stdout",
          "text": [
            "ما داریم فانکشن یاد میگیریم\n"
          ]
        }
      ]
    },
    {
      "cell_type": "markdown",
      "source": [
        "## Try It Yourself 8-2"
      ],
      "metadata": {
        "id": "8hu2rz1NbFLj"
      }
    },
    {
      "cell_type": "markdown",
      "source": [],
      "metadata": {
        "id": "Auz9utQbby57"
      }
    },
    {
      "cell_type": "markdown",
      "source": [
        "favorite_book('Alice in Wonderland')\n",
        "\n",
        "I love the book 'Alice in Wonderland'"
      ],
      "metadata": {
        "id": "zf4ramc4bl6d"
      }
    },
    {
      "cell_type": "markdown",
      "source": [
        "1.  Write a function called favorite_book()\n",
        "2.  It should take the name of a book as argument\n",
        "3.  Then print a text about it.\n",
        "\n",
        "```\n",
        "\n",
        "```"
      ],
      "metadata": {
        "id": "ZRooGfsfbSXr"
      }
    },
    {
      "cell_type": "code",
      "source": [
        "# karen\n",
        "def favorite_book(title):\n",
        "  text = f\"{title} I love book\"\n",
        "  print(text)\n",
        "\n",
        "favorite_book(\"زندگی نامه طاها\")"
      ],
      "metadata": {
        "colab": {
          "base_uri": "https://localhost:8080/"
        },
        "id": "8xeYS57KGwKZ",
        "outputId": "b833f168-19be-4f62-eefe-010ded3604ad"
      },
      "execution_count": null,
      "outputs": [
        {
          "output_type": "stream",
          "name": "stdout",
          "text": [
            "زندگی نامه طاها I love book\n"
          ]
        }
      ]
    },
    {
      "cell_type": "code",
      "source": [
        "def describe_pet(pet_type, pet_name):\n",
        "  print(f\"\\nI have a {pet_type}.\")\n",
        "  print(f\"My {pet_type}'s name is {pet_name}.\")\n",
        "\n",
        "# describe_pet(pet_name='Jessie', pet_type='dog')\n",
        "\n",
        "def greeting():\n",
        "  name = input('name: ')\n",
        "  print(f\"Hello {name}\")\n",
        "\n",
        "greeting()\n"
      ],
      "metadata": {
        "colab": {
          "base_uri": "https://localhost:8080/"
        },
        "id": "r02OG49Fe-dL",
        "outputId": "94ff1ba7-3732-4ffe-b317-ae7fb278dce8"
      },
      "execution_count": null,
      "outputs": [
        {
          "output_type": "stream",
          "name": "stdout",
          "text": [
            "name: Karen\n",
            "Hello Karen\n"
          ]
        }
      ]
    },
    {
      "cell_type": "code",
      "source": [
        "def describe_pet(pet_name, pet_type='dog'):\n",
        "  print(f'I have a {pet_type}.')\n",
        "  print(f\"My {pet_type}'s name is {pet_name}.\")\n",
        "\n",
        "describe_pet('Barfi')"
      ],
      "metadata": {
        "colab": {
          "base_uri": "https://localhost:8080/"
        },
        "id": "5Qw-c6Ppg_yu",
        "outputId": "5e3db915-cd93-4837-dd0e-3298cb021c2e"
      },
      "execution_count": null,
      "outputs": [
        {
          "output_type": "stream",
          "name": "stdout",
          "text": [
            "I have a dog.\n",
            "My dog's name is Barfi.\n"
          ]
        }
      ]
    },
    {
      "cell_type": "markdown",
      "source": [
        "## Try It Yourself 8-3"
      ],
      "metadata": {
        "id": "f866cObmirno"
      }
    },
    {
      "cell_type": "markdown",
      "source": [
        "1. define a function that takes two arguments:\n",
        "  1. Size of the T-shirt\n",
        "  2. Text to be printed on the T-shirt\n",
        "2. print out:\n",
        " ```\n",
        " Your T-shirt with size: ... and text: ... is ready\n",
        " ```"
      ],
      "metadata": {
        "id": "Hn7rd16aiyee"
      }
    },
    {
      "cell_type": "code",
      "source": [
        "# Ilia\n"
      ],
      "metadata": {
        "id": "lnPO9pVWjRb1"
      },
      "execution_count": null,
      "outputs": []
    },
    {
      "cell_type": "code",
      "source": [
        "# Elika\n",
        "def make_shirt(Size, Text):\n",
        "  print(f\"Your T-shirt with Size: {Size} and Text: {Text} is ready.\")\n",
        "\n",
        "make_shirt(\"M\", \"Weekend\")  \n",
        "\n"
      ],
      "metadata": {
        "id": "BEZY-AZNjR_A",
        "colab": {
          "base_uri": "https://localhost:8080/"
        },
        "outputId": "456ed8ff-7a8d-4fa8-a6dd-f9bd95732841"
      },
      "execution_count": null,
      "outputs": [
        {
          "output_type": "stream",
          "name": "stdout",
          "text": [
            "Your T-shirt with Size: M and Text: Weekend is ready.\n"
          ]
        }
      ]
    },
    {
      "cell_type": "code",
      "source": [
        "# Karen\n",
        "\n",
        "\n"
      ],
      "metadata": {
        "id": "1o7r_CJZjSgY"
      },
      "execution_count": null,
      "outputs": []
    },
    {
      "cell_type": "markdown",
      "source": [
        "## Try It Yourself 8-4"
      ],
      "metadata": {
        "id": "gwNM_AxNmkFx"
      }
    },
    {
      "cell_type": "markdown",
      "source": [
        "8-4. Large Shirts: Modify the make_shirt() function so that shirts are large by default with a message that reads I love Python. Make a large shirt and a medium shirt with the default message, and a shirt of any size with a different message."
      ],
      "metadata": {
        "id": "vAYvNPRumzdL"
      }
    },
    {
      "cell_type": "code",
      "source": [
        "# Elika\n",
        "\n",
        "def make_shirt(Size, Text):\n",
        "  print(f\"Your T-shirt with Size: {Size} and Text: {Text} is ready.\")\n"
      ],
      "metadata": {
        "id": "lp6zu0GsnB04"
      },
      "execution_count": null,
      "outputs": []
    },
    {
      "cell_type": "code",
      "source": [],
      "metadata": {
        "id": "dsx7xkjMnNyo"
      },
      "execution_count": null,
      "outputs": []
    },
    {
      "cell_type": "code",
      "source": [
        "def make_shirt(size='medium',text='vibes'):\n",
        "  print(f'your t_shirt in {size} and with {text} text is ready')\n",
        "make_shirt('large')\n",
        "make_shirt(text='i love codding')  "
      ],
      "metadata": {
        "id": "-68Dy0vdnO7S",
        "colab": {
          "base_uri": "https://localhost:8080/"
        },
        "outputId": "1d691481-1df4-4a8f-e058-1fe2548b5a17"
      },
      "execution_count": null,
      "outputs": [
        {
          "output_type": "stream",
          "name": "stdout",
          "text": [
            "your t_shirt in large and with vibes text is ready\n",
            "your t_shirt in medium and with i love codding text is ready\n"
          ]
        }
      ]
    }
  ]
}