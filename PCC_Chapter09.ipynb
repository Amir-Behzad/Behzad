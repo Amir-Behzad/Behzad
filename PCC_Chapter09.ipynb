{
  "nbformat": 4,
  "nbformat_minor": 0,
  "metadata": {
    "colab": {
      "provenance": [],
      "authorship_tag": "ABX9TyMTsx/gEuqmT6ALibnsCDOg",
      "include_colab_link": true
    },
    "kernelspec": {
      "name": "python3",
      "display_name": "Python 3"
    },
    "language_info": {
      "name": "python"
    }
  },
  "cells": [
    {
      "cell_type": "markdown",
      "metadata": {
        "id": "view-in-github",
        "colab_type": "text"
      },
      "source": [
        "<a href=\"https://colab.research.google.com/github/Amir-Behzad/Behzad/blob/master/PCC_Chapter09.ipynb\" target=\"_parent\"><img src=\"https://colab.research.google.com/assets/colab-badge.svg\" alt=\"Open In Colab\"/></a>"
      ]
    },
    {
      "cell_type": "markdown",
      "source": [
        "## 9-1. Restaurant\n",
        "\n",
        "Make a class called Restaurant. The `__init__()` method for Restaurant should store two attributes: a `restaurant_name` and a `cuisine_type`. Make a method called `describe_restaurant()` that prints these two pieces of information, and a method called `open_restaurant()` that prints a message indicating that the restaurant is open.\n",
        "Make an instance called restaurant from your class. Print the two attributes individually, and then call both methods."
      ],
      "metadata": {
        "id": "y4dMfeMDoEOu"
      }
    },
    {
      "cell_type": "code",
      "execution_count": 1,
      "metadata": {
        "colab": {
          "base_uri": "https://localhost:8080/"
        },
        "id": "BDYnDVQonzS2",
        "outputId": "cfcc6d3f-39f3-4bb2-dde8-a64816c9a6e9"
      },
      "outputs": [
        {
          "output_type": "stream",
          "name": "stdout",
          "text": [
            "Restaurant's name: Shamshiri.\n",
            "Shamshiri serves fast food.\n",
            "\n",
            "\n",
            "\n",
            "\n",
            "------------------------------\n",
            "Restaurant's name: Shamshiri.\n",
            "Shamshiri serves fast food.\n",
            "------------------------------\n",
            "\n",
            "------------------------------\n",
            "Shamshiri is open now.\n",
            "------------------------------\n"
          ]
        }
      ],
      "source": [
        "class Restaurant:\n",
        "  \"\"\"\n",
        "  Restaurants are represented by their: \n",
        "    - name\n",
        "    - cuisin type\n",
        "\n",
        "  \"\"\"\n",
        "\n",
        "  def __init__(self, restaurant_name , cuisineType):\n",
        "    self.name = restaurant_name \n",
        "    self.cuisineType = cuisineType.lower()\n",
        "\n",
        "  def  describe_restaurant(self):\n",
        "    text1 = f\"Restaurant's name: {self.name}.\"\n",
        "    text2 = f\"{self.name} serves {self.cuisineType}.\"\n",
        "    print(10 * \"---\")\n",
        "    print(text1)\n",
        "    print(text2)\n",
        "    print(10 * \"---\")\n",
        "\n",
        "  def  open_restaurant(self):\n",
        "    print()\n",
        "    print(10 * \"---\")\n",
        "    text = f\"{self.name} is open now.\"\n",
        "    print(text)\n",
        "    print(10 * \"---\")\n",
        "\n",
        "\n",
        "\n",
        "# help(Restaurant)\n",
        "shamshiriBurger = Restaurant('Shamshiri', 'Fast Food')\n",
        "\n",
        "cheeseFizz = Restaurant('Cheese Fizz', 'Fast food')\n",
        "\n",
        "shamshiri = shamshiriBurger\n",
        "\n",
        "print(\"Restaurant's name:\", shamshiri.name + '.')\n",
        "print(shamshiri.name, \"serves\", shamshiri.cuisineType + '.')\n",
        "print(3 * '\\n')\n",
        "shamshiri.describe_restaurant()\n",
        "shamshiri.open_restaurant()"
      ]
    },
    {
      "cell_type": "markdown",
      "source": [
        "## 9-2. Three Restaurants \n",
        "Start with your class from Exercise 9-1. Create three different instances from the class, and call `describe_restaurant()` for each instance."
      ],
      "metadata": {
        "id": "5rbxMBvkoLFB"
      }
    },
    {
      "cell_type": "code",
      "source": [
        "class Restaurant:\n",
        "  \"\"\"\n",
        "  A simple attemp to Represent a Restaurant\n",
        "  \"\"\"\n",
        "  def __init__(self, name, cuisineType):\n",
        "    self.name = name.title()\n",
        "    self.cuisineType = cuisineType.lower()\n",
        "\n",
        "  def  describe_restaurant(self):\n",
        "    text1 = f\"Restaurant's name: {self.name}.\"\n",
        "    text2 = f\"{self.name} serves {self.cuisineType}.\"\n",
        "    print(10 * \"---\")\n",
        "    print(text1)\n",
        "    print(text2)\n",
        "    print(10 * \"---\")\n",
        "\n",
        "  def  open_restaurant(self):\n",
        "    print()\n",
        "    print(10 * \"---\")\n",
        "    text = f\"{self.name} is open now.\"\n",
        "    print(text)\n",
        "    print(10 * \"---\")\n",
        "\n",
        "\n",
        "miladino = Restaurant('Miladino', 'Italian food')\n",
        "# print('The restaurant is named' , miladino.name + '.')"
      ],
      "metadata": {
        "id": "JNW4Oi7NoQq4"
      },
      "execution_count": null,
      "outputs": []
    },
    {
      "cell_type": "markdown",
      "source": [
        "## 9-3. Users\n",
        " Make a class called `User`. Create two attributes called `first_name` and `last_name`, and then create several other attributes that are typically stored in a user profile. Make a method called `describe_user()` that prints a summary of the user’s information. Make another method called `greet_user()` that prints a personalized greeting to the user.\n",
        "Create several instances representing different users, and call both methods for each user."
      ],
      "metadata": {
        "id": "MSq6iVx6ob7K"
      }
    },
    {
      "cell_type": "code",
      "source": [
        "class User:\n",
        "  \"\"\"\n",
        "  A simple attempt to model a user.\n",
        "  \"\"\"\n",
        "\n",
        "  def __init__(self, first_name, last_name, age, gender, ):\n",
        "    self.first_name = first_name\n",
        "    self.last_name = last_name\n",
        "    self.age = age\n",
        "    self.gender = gender\n",
        "\n",
        "  def describe_user(self):\n",
        "    text1 = f\"My name is {self.first_name} {self.last_name}.\"\n",
        "    text2 = f\"I'm {self.age} years old.\"\n",
        "    print(text1)\n",
        "    print(text2)\n"
      ],
      "metadata": {
        "id": "F0u5HxWIoji5"
      },
      "execution_count": null,
      "outputs": []
    }
  ]
}